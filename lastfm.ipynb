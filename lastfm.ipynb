{
 "cells": [
  {
   "cell_type": "code",
   "execution_count": 1,
   "id": "512ba802-25e8-4a3c-b33b-bc1065b320fb",
   "metadata": {},
   "outputs": [],
   "source": [
    "import pandas as pd\n",
    "import numpy as np\n",
    "from datetime import datetime\n",
    "from datetime import time"
   ]
  },
  {
   "cell_type": "markdown",
   "id": "f1b11883-a1ab-40ad-bb56-09c402483aa5",
   "metadata": {},
   "source": [
    "## Carregando e limpando os dados"
   ]
  },
  {
   "cell_type": "code",
   "execution_count": 2,
   "id": "86a40ee4-a463-4506-8141-7c9388d7ca2c",
   "metadata": {},
   "outputs": [],
   "source": [
    "df = pd.read_csv('scrobbles.csv')"
   ]
  },
  {
   "cell_type": "code",
   "execution_count": 3,
   "id": "4f55a9f7-bb86-46ec-8fc8-ad4e753954cd",
   "metadata": {},
   "outputs": [
    {
     "data": {
      "text/html": [
       "<div>\n",
       "<style scoped>\n",
       "    .dataframe tbody tr th:only-of-type {\n",
       "        vertical-align: middle;\n",
       "    }\n",
       "\n",
       "    .dataframe tbody tr th {\n",
       "        vertical-align: top;\n",
       "    }\n",
       "\n",
       "    .dataframe thead th {\n",
       "        text-align: right;\n",
       "    }\n",
       "</style>\n",
       "<table border=\"1\" class=\"dataframe\">\n",
       "  <thead>\n",
       "    <tr style=\"text-align: right;\">\n",
       "      <th></th>\n",
       "      <th>uts</th>\n",
       "      <th>utc_time</th>\n",
       "      <th>artist</th>\n",
       "      <th>artist_mbid</th>\n",
       "      <th>album</th>\n",
       "      <th>album_mbid</th>\n",
       "      <th>track</th>\n",
       "      <th>track_mbid</th>\n",
       "    </tr>\n",
       "  </thead>\n",
       "  <tbody>\n",
       "    <tr>\n",
       "      <th>0</th>\n",
       "      <td>1625949762</td>\n",
       "      <td>10 Jul 2021, 20:42</td>\n",
       "      <td>Pabllo Vittar</td>\n",
       "      <td>NaN</td>\n",
       "      <td>Batidão Tropical</td>\n",
       "      <td>NaN</td>\n",
       "      <td>Bang Bang</td>\n",
       "      <td>NaN</td>\n",
       "    </tr>\n",
       "    <tr>\n",
       "      <th>1</th>\n",
       "      <td>1625949595</td>\n",
       "      <td>10 Jul 2021, 20:39</td>\n",
       "      <td>Pabllo Vittar</td>\n",
       "      <td>NaN</td>\n",
       "      <td>Batidão Tropical</td>\n",
       "      <td>NaN</td>\n",
       "      <td>Não é Papel de Homem</td>\n",
       "      <td>NaN</td>\n",
       "    </tr>\n",
       "    <tr>\n",
       "      <th>2</th>\n",
       "      <td>1625949428</td>\n",
       "      <td>10 Jul 2021, 20:37</td>\n",
       "      <td>Pabllo Vittar</td>\n",
       "      <td>NaN</td>\n",
       "      <td>Batidão Tropical</td>\n",
       "      <td>NaN</td>\n",
       "      <td>Zap Zum</td>\n",
       "      <td>NaN</td>\n",
       "    </tr>\n",
       "    <tr>\n",
       "      <th>3</th>\n",
       "      <td>1625949313</td>\n",
       "      <td>10 Jul 2021, 20:35</td>\n",
       "      <td>Pabllo Vittar</td>\n",
       "      <td>NaN</td>\n",
       "      <td>Batidão Tropical</td>\n",
       "      <td>NaN</td>\n",
       "      <td>Ultra Som</td>\n",
       "      <td>NaN</td>\n",
       "    </tr>\n",
       "    <tr>\n",
       "      <th>4</th>\n",
       "      <td>1625949165</td>\n",
       "      <td>10 Jul 2021, 20:32</td>\n",
       "      <td>Pabllo Vittar</td>\n",
       "      <td>NaN</td>\n",
       "      <td>Batidão Tropical</td>\n",
       "      <td>NaN</td>\n",
       "      <td>Apaixonada</td>\n",
       "      <td>NaN</td>\n",
       "    </tr>\n",
       "  </tbody>\n",
       "</table>\n",
       "</div>"
      ],
      "text/plain": [
       "          uts            utc_time         artist artist_mbid  \\\n",
       "0  1625949762  10 Jul 2021, 20:42  Pabllo Vittar         NaN   \n",
       "1  1625949595  10 Jul 2021, 20:39  Pabllo Vittar         NaN   \n",
       "2  1625949428  10 Jul 2021, 20:37  Pabllo Vittar         NaN   \n",
       "3  1625949313  10 Jul 2021, 20:35  Pabllo Vittar         NaN   \n",
       "4  1625949165  10 Jul 2021, 20:32  Pabllo Vittar         NaN   \n",
       "\n",
       "              album album_mbid                 track track_mbid  \n",
       "0  Batidão Tropical        NaN             Bang Bang        NaN  \n",
       "1  Batidão Tropical        NaN  Não é Papel de Homem        NaN  \n",
       "2  Batidão Tropical        NaN               Zap Zum        NaN  \n",
       "3  Batidão Tropical        NaN             Ultra Som        NaN  \n",
       "4  Batidão Tropical        NaN            Apaixonada        NaN  "
      ]
     },
     "execution_count": 3,
     "metadata": {},
     "output_type": "execute_result"
    }
   ],
   "source": [
    "df.head()"
   ]
  },
  {
   "cell_type": "code",
   "execution_count": 4,
   "id": "40fdc309-c5ae-4c63-9097-83ea38b3b22f",
   "metadata": {},
   "outputs": [
    {
     "data": {
      "text/plain": [
       "Index(['uts', 'utc_time', 'artist', 'artist_mbid', 'album', 'album_mbid',\n",
       "       'track', 'track_mbid'],\n",
       "      dtype='object')"
      ]
     },
     "execution_count": 4,
     "metadata": {},
     "output_type": "execute_result"
    }
   ],
   "source": [
    "df.columns"
   ]
  },
  {
   "cell_type": "code",
   "execution_count": 5,
   "id": "c31b3e9d-29ea-4b87-82f6-2a9c47fabe27",
   "metadata": {},
   "outputs": [],
   "source": [
    "columns = ['uts','artist_mbid', 'album_mbid', 'track_mbid']"
   ]
  },
  {
   "cell_type": "markdown",
   "id": "f19f471f-0c53-4891-bb32-3c19eaefaab3",
   "metadata": {},
   "source": [
    "## Retirando algumas colunas"
   ]
  },
  {
   "cell_type": "code",
   "execution_count": 7,
   "id": "6fcc8fc7-ec4f-425b-9fa5-ac3355608927",
   "metadata": {},
   "outputs": [],
   "source": [
    "df.drop(columns=columns, inplace=True)"
   ]
  },
  {
   "cell_type": "code",
   "execution_count": 8,
   "id": "5bdb4e8b-52ce-4027-8975-4b0e728b7187",
   "metadata": {},
   "outputs": [
    {
     "data": {
      "text/html": [
       "<div>\n",
       "<style scoped>\n",
       "    .dataframe tbody tr th:only-of-type {\n",
       "        vertical-align: middle;\n",
       "    }\n",
       "\n",
       "    .dataframe tbody tr th {\n",
       "        vertical-align: top;\n",
       "    }\n",
       "\n",
       "    .dataframe thead th {\n",
       "        text-align: right;\n",
       "    }\n",
       "</style>\n",
       "<table border=\"1\" class=\"dataframe\">\n",
       "  <thead>\n",
       "    <tr style=\"text-align: right;\">\n",
       "      <th></th>\n",
       "      <th>utc_time</th>\n",
       "      <th>artist</th>\n",
       "      <th>album</th>\n",
       "      <th>track</th>\n",
       "    </tr>\n",
       "  </thead>\n",
       "  <tbody>\n",
       "    <tr>\n",
       "      <th>0</th>\n",
       "      <td>10 Jul 2021, 20:42</td>\n",
       "      <td>Pabllo Vittar</td>\n",
       "      <td>Batidão Tropical</td>\n",
       "      <td>Bang Bang</td>\n",
       "    </tr>\n",
       "    <tr>\n",
       "      <th>1</th>\n",
       "      <td>10 Jul 2021, 20:39</td>\n",
       "      <td>Pabllo Vittar</td>\n",
       "      <td>Batidão Tropical</td>\n",
       "      <td>Não é Papel de Homem</td>\n",
       "    </tr>\n",
       "    <tr>\n",
       "      <th>2</th>\n",
       "      <td>10 Jul 2021, 20:37</td>\n",
       "      <td>Pabllo Vittar</td>\n",
       "      <td>Batidão Tropical</td>\n",
       "      <td>Zap Zum</td>\n",
       "    </tr>\n",
       "    <tr>\n",
       "      <th>3</th>\n",
       "      <td>10 Jul 2021, 20:35</td>\n",
       "      <td>Pabllo Vittar</td>\n",
       "      <td>Batidão Tropical</td>\n",
       "      <td>Ultra Som</td>\n",
       "    </tr>\n",
       "    <tr>\n",
       "      <th>4</th>\n",
       "      <td>10 Jul 2021, 20:32</td>\n",
       "      <td>Pabllo Vittar</td>\n",
       "      <td>Batidão Tropical</td>\n",
       "      <td>Apaixonada</td>\n",
       "    </tr>\n",
       "  </tbody>\n",
       "</table>\n",
       "</div>"
      ],
      "text/plain": [
       "             utc_time         artist             album                 track\n",
       "0  10 Jul 2021, 20:42  Pabllo Vittar  Batidão Tropical             Bang Bang\n",
       "1  10 Jul 2021, 20:39  Pabllo Vittar  Batidão Tropical  Não é Papel de Homem\n",
       "2  10 Jul 2021, 20:37  Pabllo Vittar  Batidão Tropical               Zap Zum\n",
       "3  10 Jul 2021, 20:35  Pabllo Vittar  Batidão Tropical             Ultra Som\n",
       "4  10 Jul 2021, 20:32  Pabllo Vittar  Batidão Tropical            Apaixonada"
      ]
     },
     "execution_count": 8,
     "metadata": {},
     "output_type": "execute_result"
    }
   ],
   "source": [
    "df.head()"
   ]
  },
  {
   "cell_type": "code",
   "execution_count": 9,
   "id": "4bed44f3-fcb1-40c9-929d-33bf1fbdbb0e",
   "metadata": {},
   "outputs": [
    {
     "name": "stdout",
     "output_type": "stream",
     "text": [
      "<class 'pandas.core.frame.DataFrame'>\n",
      "RangeIndex: 67805 entries, 0 to 67804\n",
      "Data columns (total 4 columns):\n",
      " #   Column    Non-Null Count  Dtype \n",
      "---  ------    --------------  ----- \n",
      " 0   utc_time  67805 non-null  object\n",
      " 1   artist    67805 non-null  object\n",
      " 2   album     67642 non-null  object\n",
      " 3   track     67805 non-null  object\n",
      "dtypes: object(4)\n",
      "memory usage: 2.1+ MB\n"
     ]
    }
   ],
   "source": [
    "df.info()"
   ]
  },
  {
   "cell_type": "markdown",
   "id": "a03462c1-2f69-400e-9910-98292f694632",
   "metadata": {},
   "source": [
    "### Procurando nulos..."
   ]
  },
  {
   "cell_type": "code",
   "execution_count": 10,
   "id": "f0f21d73-0519-449d-9d4f-59064e06c936",
   "metadata": {},
   "outputs": [
    {
     "data": {
      "text/html": [
       "<div>\n",
       "<style scoped>\n",
       "    .dataframe tbody tr th:only-of-type {\n",
       "        vertical-align: middle;\n",
       "    }\n",
       "\n",
       "    .dataframe tbody tr th {\n",
       "        vertical-align: top;\n",
       "    }\n",
       "\n",
       "    .dataframe thead th {\n",
       "        text-align: right;\n",
       "    }\n",
       "</style>\n",
       "<table border=\"1\" class=\"dataframe\">\n",
       "  <thead>\n",
       "    <tr style=\"text-align: right;\">\n",
       "      <th></th>\n",
       "      <th>utc_time</th>\n",
       "      <th>artist</th>\n",
       "      <th>album</th>\n",
       "      <th>track</th>\n",
       "    </tr>\n",
       "  </thead>\n",
       "  <tbody>\n",
       "    <tr>\n",
       "      <th>24084</th>\n",
       "      <td>22 Dec 2016, 04:38</td>\n",
       "      <td>WellSchreinerMusic</td>\n",
       "      <td>NaN</td>\n",
       "      <td>Get Over Ü</td>\n",
       "    </tr>\n",
       "    <tr>\n",
       "      <th>24521</th>\n",
       "      <td>09 Dec 2016, 04:21</td>\n",
       "      <td>WellSchreinerMusic</td>\n",
       "      <td>NaN</td>\n",
       "      <td>Get Over Ü (Pornografairy Remix)</td>\n",
       "    </tr>\n",
       "    <tr>\n",
       "      <th>24522</th>\n",
       "      <td>09 Dec 2016, 04:17</td>\n",
       "      <td>WellSchreinerMusic</td>\n",
       "      <td>NaN</td>\n",
       "      <td>Get Over Ü</td>\n",
       "    </tr>\n",
       "    <tr>\n",
       "      <th>45775</th>\n",
       "      <td>09 Aug 2015, 05:40</td>\n",
       "      <td>The Weeknd</td>\n",
       "      <td>NaN</td>\n",
       "      <td>Earned It (Fifty Shades Of Grey) - From The \"F...</td>\n",
       "    </tr>\n",
       "    <tr>\n",
       "      <th>45776</th>\n",
       "      <td>09 Aug 2015, 05:35</td>\n",
       "      <td>The Weeknd</td>\n",
       "      <td>NaN</td>\n",
       "      <td>Earned It (Fifty Shades Of Grey) - From The \"F...</td>\n",
       "    </tr>\n",
       "    <tr>\n",
       "      <th>...</th>\n",
       "      <td>...</td>\n",
       "      <td>...</td>\n",
       "      <td>...</td>\n",
       "      <td>...</td>\n",
       "    </tr>\n",
       "    <tr>\n",
       "      <th>67335</th>\n",
       "      <td>01 Jan 1970, 00:07</td>\n",
       "      <td>Eminem</td>\n",
       "      <td>NaN</td>\n",
       "      <td>I Love The Way You Lie</td>\n",
       "    </tr>\n",
       "    <tr>\n",
       "      <th>67336</th>\n",
       "      <td>01 Jan 1970, 00:07</td>\n",
       "      <td>Eminem</td>\n",
       "      <td>NaN</td>\n",
       "      <td>I Love The Way You Lie</td>\n",
       "    </tr>\n",
       "    <tr>\n",
       "      <th>67337</th>\n",
       "      <td>01 Jan 1970, 00:07</td>\n",
       "      <td>Eminem</td>\n",
       "      <td>NaN</td>\n",
       "      <td>I Love The Way You Lie</td>\n",
       "    </tr>\n",
       "    <tr>\n",
       "      <th>67338</th>\n",
       "      <td>01 Jan 1970, 00:07</td>\n",
       "      <td>Eminem</td>\n",
       "      <td>NaN</td>\n",
       "      <td>I Love The Way You Lie</td>\n",
       "    </tr>\n",
       "    <tr>\n",
       "      <th>67339</th>\n",
       "      <td>01 Jan 1970, 00:07</td>\n",
       "      <td>Eminem</td>\n",
       "      <td>NaN</td>\n",
       "      <td>I Love The Way You Lie</td>\n",
       "    </tr>\n",
       "  </tbody>\n",
       "</table>\n",
       "<p>163 rows × 4 columns</p>\n",
       "</div>"
      ],
      "text/plain": [
       "                 utc_time              artist album  \\\n",
       "24084  22 Dec 2016, 04:38  WellSchreinerMusic   NaN   \n",
       "24521  09 Dec 2016, 04:21  WellSchreinerMusic   NaN   \n",
       "24522  09 Dec 2016, 04:17  WellSchreinerMusic   NaN   \n",
       "45775  09 Aug 2015, 05:40          The Weeknd   NaN   \n",
       "45776  09 Aug 2015, 05:35          The Weeknd   NaN   \n",
       "...                   ...                 ...   ...   \n",
       "67335  01 Jan 1970, 00:07              Eminem   NaN   \n",
       "67336  01 Jan 1970, 00:07              Eminem   NaN   \n",
       "67337  01 Jan 1970, 00:07              Eminem   NaN   \n",
       "67338  01 Jan 1970, 00:07              Eminem   NaN   \n",
       "67339  01 Jan 1970, 00:07              Eminem   NaN   \n",
       "\n",
       "                                                   track  \n",
       "24084                                         Get Over Ü  \n",
       "24521                   Get Over Ü (Pornografairy Remix)  \n",
       "24522                                         Get Over Ü  \n",
       "45775  Earned It (Fifty Shades Of Grey) - From The \"F...  \n",
       "45776  Earned It (Fifty Shades Of Grey) - From The \"F...  \n",
       "...                                                  ...  \n",
       "67335                             I Love The Way You Lie  \n",
       "67336                             I Love The Way You Lie  \n",
       "67337                             I Love The Way You Lie  \n",
       "67338                             I Love The Way You Lie  \n",
       "67339                             I Love The Way You Lie  \n",
       "\n",
       "[163 rows x 4 columns]"
      ]
     },
     "execution_count": 10,
     "metadata": {},
     "output_type": "execute_result"
    }
   ],
   "source": [
    "df.loc[df.album.isnull()]"
   ]
  },
  {
   "cell_type": "code",
   "execution_count": 11,
   "id": "e851b78a-d6f9-44de-bdd9-61e9172a4135",
   "metadata": {},
   "outputs": [
    {
     "name": "stdout",
     "output_type": "stream",
     "text": [
      "<class 'pandas.core.frame.DataFrame'>\n",
      "RangeIndex: 67805 entries, 0 to 67804\n",
      "Data columns (total 4 columns):\n",
      " #   Column    Non-Null Count  Dtype \n",
      "---  ------    --------------  ----- \n",
      " 0   utc_time  67805 non-null  object\n",
      " 1   artist    67805 non-null  object\n",
      " 2   album     67642 non-null  object\n",
      " 3   track     67805 non-null  object\n",
      "dtypes: object(4)\n",
      "memory usage: 2.1+ MB\n"
     ]
    }
   ],
   "source": [
    "df.info()"
   ]
  },
  {
   "cell_type": "code",
   "execution_count": 12,
   "id": "a911be2c-9724-4e69-9ae5-054dd63c78bd",
   "metadata": {},
   "outputs": [],
   "source": [
    "df.utc_time = pd.to_datetime(df['utc_time'])"
   ]
  },
  {
   "cell_type": "code",
   "execution_count": 13,
   "id": "69e8558a-ba3a-4d0b-9bff-0e28dca00906",
   "metadata": {},
   "outputs": [],
   "source": [
    "df.utc_time = pd.to_datetime(df['utc_time'].dt.strftime('%d-%m-%Y'))"
   ]
  },
  {
   "cell_type": "code",
   "execution_count": 14,
   "id": "fba9a049-b4e7-47ea-b840-11ae07c9c323",
   "metadata": {},
   "outputs": [
    {
     "data": {
      "text/html": [
       "<div>\n",
       "<style scoped>\n",
       "    .dataframe tbody tr th:only-of-type {\n",
       "        vertical-align: middle;\n",
       "    }\n",
       "\n",
       "    .dataframe tbody tr th {\n",
       "        vertical-align: top;\n",
       "    }\n",
       "\n",
       "    .dataframe thead th {\n",
       "        text-align: right;\n",
       "    }\n",
       "</style>\n",
       "<table border=\"1\" class=\"dataframe\">\n",
       "  <thead>\n",
       "    <tr style=\"text-align: right;\">\n",
       "      <th></th>\n",
       "      <th>utc_time</th>\n",
       "      <th>artist</th>\n",
       "      <th>album</th>\n",
       "      <th>track</th>\n",
       "    </tr>\n",
       "  </thead>\n",
       "  <tbody>\n",
       "    <tr>\n",
       "      <th>0</th>\n",
       "      <td>2021-10-07</td>\n",
       "      <td>Pabllo Vittar</td>\n",
       "      <td>Batidão Tropical</td>\n",
       "      <td>Bang Bang</td>\n",
       "    </tr>\n",
       "    <tr>\n",
       "      <th>1</th>\n",
       "      <td>2021-10-07</td>\n",
       "      <td>Pabllo Vittar</td>\n",
       "      <td>Batidão Tropical</td>\n",
       "      <td>Não é Papel de Homem</td>\n",
       "    </tr>\n",
       "    <tr>\n",
       "      <th>2</th>\n",
       "      <td>2021-10-07</td>\n",
       "      <td>Pabllo Vittar</td>\n",
       "      <td>Batidão Tropical</td>\n",
       "      <td>Zap Zum</td>\n",
       "    </tr>\n",
       "    <tr>\n",
       "      <th>3</th>\n",
       "      <td>2021-10-07</td>\n",
       "      <td>Pabllo Vittar</td>\n",
       "      <td>Batidão Tropical</td>\n",
       "      <td>Ultra Som</td>\n",
       "    </tr>\n",
       "    <tr>\n",
       "      <th>4</th>\n",
       "      <td>2021-10-07</td>\n",
       "      <td>Pabllo Vittar</td>\n",
       "      <td>Batidão Tropical</td>\n",
       "      <td>Apaixonada</td>\n",
       "    </tr>\n",
       "  </tbody>\n",
       "</table>\n",
       "</div>"
      ],
      "text/plain": [
       "    utc_time         artist             album                 track\n",
       "0 2021-10-07  Pabllo Vittar  Batidão Tropical             Bang Bang\n",
       "1 2021-10-07  Pabllo Vittar  Batidão Tropical  Não é Papel de Homem\n",
       "2 2021-10-07  Pabllo Vittar  Batidão Tropical               Zap Zum\n",
       "3 2021-10-07  Pabllo Vittar  Batidão Tropical             Ultra Som\n",
       "4 2021-10-07  Pabllo Vittar  Batidão Tropical            Apaixonada"
      ]
     },
     "execution_count": 14,
     "metadata": {},
     "output_type": "execute_result"
    }
   ],
   "source": [
    "df.head()"
   ]
  },
  {
   "cell_type": "code",
   "execution_count": 15,
   "id": "51550fcf-00f6-49b8-9cb5-adba074bf158",
   "metadata": {},
   "outputs": [
    {
     "name": "stdout",
     "output_type": "stream",
     "text": [
      "<class 'pandas.core.frame.DataFrame'>\n",
      "RangeIndex: 67805 entries, 0 to 67804\n",
      "Data columns (total 4 columns):\n",
      " #   Column    Non-Null Count  Dtype         \n",
      "---  ------    --------------  -----         \n",
      " 0   utc_time  67805 non-null  datetime64[ns]\n",
      " 1   artist    67805 non-null  object        \n",
      " 2   album     67642 non-null  object        \n",
      " 3   track     67805 non-null  object        \n",
      "dtypes: datetime64[ns](1), object(3)\n",
      "memory usage: 2.1+ MB\n"
     ]
    }
   ],
   "source": [
    "df.info()"
   ]
  },
  {
   "cell_type": "code",
   "execution_count": 16,
   "id": "392b4ce5-276d-49d6-80ae-09de00374dc7",
   "metadata": {},
   "outputs": [
    {
     "data": {
      "text/html": [
       "<div>\n",
       "<style scoped>\n",
       "    .dataframe tbody tr th:only-of-type {\n",
       "        vertical-align: middle;\n",
       "    }\n",
       "\n",
       "    .dataframe tbody tr th {\n",
       "        vertical-align: top;\n",
       "    }\n",
       "\n",
       "    .dataframe thead th {\n",
       "        text-align: right;\n",
       "    }\n",
       "</style>\n",
       "<table border=\"1\" class=\"dataframe\">\n",
       "  <thead>\n",
       "    <tr style=\"text-align: right;\">\n",
       "      <th></th>\n",
       "      <th>utc_time</th>\n",
       "      <th>artist</th>\n",
       "      <th>album</th>\n",
       "      <th>track</th>\n",
       "    </tr>\n",
       "  </thead>\n",
       "  <tbody>\n",
       "    <tr>\n",
       "      <th>0</th>\n",
       "      <td>2021-10-07</td>\n",
       "      <td>Pabllo Vittar</td>\n",
       "      <td>Batidão Tropical</td>\n",
       "      <td>Bang Bang</td>\n",
       "    </tr>\n",
       "    <tr>\n",
       "      <th>1</th>\n",
       "      <td>2021-10-07</td>\n",
       "      <td>Pabllo Vittar</td>\n",
       "      <td>Batidão Tropical</td>\n",
       "      <td>Não é Papel de Homem</td>\n",
       "    </tr>\n",
       "    <tr>\n",
       "      <th>2</th>\n",
       "      <td>2021-10-07</td>\n",
       "      <td>Pabllo Vittar</td>\n",
       "      <td>Batidão Tropical</td>\n",
       "      <td>Zap Zum</td>\n",
       "    </tr>\n",
       "    <tr>\n",
       "      <th>3</th>\n",
       "      <td>2021-10-07</td>\n",
       "      <td>Pabllo Vittar</td>\n",
       "      <td>Batidão Tropical</td>\n",
       "      <td>Ultra Som</td>\n",
       "    </tr>\n",
       "    <tr>\n",
       "      <th>4</th>\n",
       "      <td>2021-10-07</td>\n",
       "      <td>Pabllo Vittar</td>\n",
       "      <td>Batidão Tropical</td>\n",
       "      <td>Apaixonada</td>\n",
       "    </tr>\n",
       "  </tbody>\n",
       "</table>\n",
       "</div>"
      ],
      "text/plain": [
       "    utc_time         artist             album                 track\n",
       "0 2021-10-07  Pabllo Vittar  Batidão Tropical             Bang Bang\n",
       "1 2021-10-07  Pabllo Vittar  Batidão Tropical  Não é Papel de Homem\n",
       "2 2021-10-07  Pabllo Vittar  Batidão Tropical               Zap Zum\n",
       "3 2021-10-07  Pabllo Vittar  Batidão Tropical             Ultra Som\n",
       "4 2021-10-07  Pabllo Vittar  Batidão Tropical            Apaixonada"
      ]
     },
     "execution_count": 16,
     "metadata": {},
     "output_type": "execute_result"
    }
   ],
   "source": [
    "df.head()"
   ]
  },
  {
   "cell_type": "code",
   "execution_count": 17,
   "id": "8a1dbd6e-8502-47f8-971d-1b5d9cd9e418",
   "metadata": {},
   "outputs": [],
   "source": [
    "df = df.loc[df.utc_time > '1970-01-01 00:00:00']"
   ]
  },
  {
   "cell_type": "code",
   "execution_count": 19,
   "id": "81971c31-944b-4f5e-8dab-b724e2061a0f",
   "metadata": {},
   "outputs": [
    {
     "name": "stdout",
     "output_type": "stream",
     "text": [
      "<class 'pandas.core.frame.DataFrame'>\n",
      "Int64Index: 65621 entries, 0 to 65620\n",
      "Data columns (total 4 columns):\n",
      " #   Column    Non-Null Count  Dtype         \n",
      "---  ------    --------------  -----         \n",
      " 0   utc_time  65621 non-null  datetime64[ns]\n",
      " 1   artist    65621 non-null  object        \n",
      " 2   album     65467 non-null  object        \n",
      " 3   track     65621 non-null  object        \n",
      "dtypes: datetime64[ns](1), object(3)\n",
      "memory usage: 2.5+ MB\n"
     ]
    }
   ],
   "source": [
    "df.info()"
   ]
  },
  {
   "cell_type": "code",
   "execution_count": 20,
   "id": "c20b5a74-970a-4e14-97d0-c50e2dd840b3",
   "metadata": {},
   "outputs": [],
   "source": [
    "df.album = df.album.replace(np.nan, 'Sem álbum')"
   ]
  },
  {
   "cell_type": "code",
   "execution_count": 21,
   "id": "4440a7ff-42e6-4200-a833-0b58296557da",
   "metadata": {},
   "outputs": [
    {
     "name": "stdout",
     "output_type": "stream",
     "text": [
      "<class 'pandas.core.frame.DataFrame'>\n",
      "Int64Index: 65621 entries, 0 to 65620\n",
      "Data columns (total 4 columns):\n",
      " #   Column    Non-Null Count  Dtype         \n",
      "---  ------    --------------  -----         \n",
      " 0   utc_time  65621 non-null  datetime64[ns]\n",
      " 1   artist    65621 non-null  object        \n",
      " 2   album     65621 non-null  object        \n",
      " 3   track     65621 non-null  object        \n",
      "dtypes: datetime64[ns](1), object(3)\n",
      "memory usage: 2.5+ MB\n"
     ]
    }
   ],
   "source": [
    "df.info()"
   ]
  },
  {
   "cell_type": "code",
   "execution_count": 22,
   "id": "e379b9be-67b2-42e4-a193-a2f6106be47e",
   "metadata": {},
   "outputs": [
    {
     "data": {
      "text/html": [
       "<div>\n",
       "<style scoped>\n",
       "    .dataframe tbody tr th:only-of-type {\n",
       "        vertical-align: middle;\n",
       "    }\n",
       "\n",
       "    .dataframe tbody tr th {\n",
       "        vertical-align: top;\n",
       "    }\n",
       "\n",
       "    .dataframe thead th {\n",
       "        text-align: right;\n",
       "    }\n",
       "</style>\n",
       "<table border=\"1\" class=\"dataframe\">\n",
       "  <thead>\n",
       "    <tr style=\"text-align: right;\">\n",
       "      <th></th>\n",
       "      <th>utc_time</th>\n",
       "      <th>artist</th>\n",
       "      <th>album</th>\n",
       "      <th>track</th>\n",
       "    </tr>\n",
       "  </thead>\n",
       "  <tbody>\n",
       "    <tr>\n",
       "      <th>24084</th>\n",
       "      <td>2016-12-22</td>\n",
       "      <td>WellSchreinerMusic</td>\n",
       "      <td>Sem álbum</td>\n",
       "      <td>Get Over Ü</td>\n",
       "    </tr>\n",
       "    <tr>\n",
       "      <th>24521</th>\n",
       "      <td>2016-09-12</td>\n",
       "      <td>WellSchreinerMusic</td>\n",
       "      <td>Sem álbum</td>\n",
       "      <td>Get Over Ü (Pornografairy Remix)</td>\n",
       "    </tr>\n",
       "    <tr>\n",
       "      <th>24522</th>\n",
       "      <td>2016-09-12</td>\n",
       "      <td>WellSchreinerMusic</td>\n",
       "      <td>Sem álbum</td>\n",
       "      <td>Get Over Ü</td>\n",
       "    </tr>\n",
       "    <tr>\n",
       "      <th>45775</th>\n",
       "      <td>2015-09-08</td>\n",
       "      <td>The Weeknd</td>\n",
       "      <td>Sem álbum</td>\n",
       "      <td>Earned It (Fifty Shades Of Grey) - From The \"F...</td>\n",
       "    </tr>\n",
       "    <tr>\n",
       "      <th>45776</th>\n",
       "      <td>2015-09-08</td>\n",
       "      <td>The Weeknd</td>\n",
       "      <td>Sem álbum</td>\n",
       "      <td>Earned It (Fifty Shades Of Grey) - From The \"F...</td>\n",
       "    </tr>\n",
       "    <tr>\n",
       "      <th>...</th>\n",
       "      <td>...</td>\n",
       "      <td>...</td>\n",
       "      <td>...</td>\n",
       "      <td>...</td>\n",
       "    </tr>\n",
       "    <tr>\n",
       "      <th>65602</th>\n",
       "      <td>2014-07-10</td>\n",
       "      <td>Nicki Minaj</td>\n",
       "      <td>Sem álbum</td>\n",
       "      <td>Pills n Potions</td>\n",
       "    </tr>\n",
       "    <tr>\n",
       "      <th>65603</th>\n",
       "      <td>2014-07-10</td>\n",
       "      <td>Nicki Minaj</td>\n",
       "      <td>Sem álbum</td>\n",
       "      <td>Pills n Potions</td>\n",
       "    </tr>\n",
       "    <tr>\n",
       "      <th>65604</th>\n",
       "      <td>2014-07-10</td>\n",
       "      <td>Nicki Minaj</td>\n",
       "      <td>Sem álbum</td>\n",
       "      <td>Pills n Potions</td>\n",
       "    </tr>\n",
       "    <tr>\n",
       "      <th>65605</th>\n",
       "      <td>2014-07-10</td>\n",
       "      <td>Nicki Minaj</td>\n",
       "      <td>Sem álbum</td>\n",
       "      <td>Pills n Potions</td>\n",
       "    </tr>\n",
       "    <tr>\n",
       "      <th>65607</th>\n",
       "      <td>2014-06-10</td>\n",
       "      <td>Azealia Banks</td>\n",
       "      <td>Sem álbum</td>\n",
       "      <td>Chasing Time</td>\n",
       "    </tr>\n",
       "  </tbody>\n",
       "</table>\n",
       "<p>154 rows × 4 columns</p>\n",
       "</div>"
      ],
      "text/plain": [
       "        utc_time              artist      album  \\\n",
       "24084 2016-12-22  WellSchreinerMusic  Sem álbum   \n",
       "24521 2016-09-12  WellSchreinerMusic  Sem álbum   \n",
       "24522 2016-09-12  WellSchreinerMusic  Sem álbum   \n",
       "45775 2015-09-08          The Weeknd  Sem álbum   \n",
       "45776 2015-09-08          The Weeknd  Sem álbum   \n",
       "...          ...                 ...        ...   \n",
       "65602 2014-07-10         Nicki Minaj  Sem álbum   \n",
       "65603 2014-07-10         Nicki Minaj  Sem álbum   \n",
       "65604 2014-07-10         Nicki Minaj  Sem álbum   \n",
       "65605 2014-07-10         Nicki Minaj  Sem álbum   \n",
       "65607 2014-06-10       Azealia Banks  Sem álbum   \n",
       "\n",
       "                                                   track  \n",
       "24084                                         Get Over Ü  \n",
       "24521                   Get Over Ü (Pornografairy Remix)  \n",
       "24522                                         Get Over Ü  \n",
       "45775  Earned It (Fifty Shades Of Grey) - From The \"F...  \n",
       "45776  Earned It (Fifty Shades Of Grey) - From The \"F...  \n",
       "...                                                  ...  \n",
       "65602                                    Pills n Potions  \n",
       "65603                                    Pills n Potions  \n",
       "65604                                    Pills n Potions  \n",
       "65605                                    Pills n Potions  \n",
       "65607                                       Chasing Time  \n",
       "\n",
       "[154 rows x 4 columns]"
      ]
     },
     "execution_count": 22,
     "metadata": {},
     "output_type": "execute_result"
    }
   ],
   "source": [
    "df[df['album'] == 'Sem álbum']"
   ]
  },
  {
   "cell_type": "code",
   "execution_count": 23,
   "id": "586727eb-fead-4bc2-aee6-432ebf661fc8",
   "metadata": {},
   "outputs": [],
   "source": [
    "df.reset_index(inplace=True)"
   ]
  },
  {
   "cell_type": "code",
   "execution_count": 25,
   "id": "5656d2ef-a76a-4548-993a-9dba510db50f",
   "metadata": {},
   "outputs": [
    {
     "ename": "KeyError",
     "evalue": "\"['index'] not found in axis\"",
     "output_type": "error",
     "traceback": [
      "\u001b[1;31m---------------------------------------------------------------------------\u001b[0m",
      "\u001b[1;31mKeyError\u001b[0m                                  Traceback (most recent call last)",
      "\u001b[1;32m~\\AppData\\Local\\Temp/ipykernel_16128/705726186.py\u001b[0m in \u001b[0;36m<module>\u001b[1;34m\u001b[0m\n\u001b[1;32m----> 1\u001b[1;33m \u001b[0mdf\u001b[0m\u001b[1;33m.\u001b[0m\u001b[0mdrop\u001b[0m\u001b[1;33m(\u001b[0m\u001b[0mcolumns\u001b[0m\u001b[1;33m=\u001b[0m\u001b[1;34m'index'\u001b[0m\u001b[1;33m,\u001b[0m \u001b[0minplace\u001b[0m\u001b[1;33m=\u001b[0m\u001b[1;32mTrue\u001b[0m\u001b[1;33m)\u001b[0m\u001b[1;33m\u001b[0m\u001b[1;33m\u001b[0m\u001b[0m\n\u001b[0m",
      "\u001b[1;32mc:\\users\\natan\\pycharmprojects\\projeto_modulo5\\venv\\lib\\site-packages\\pandas\\util\\_decorators.py\u001b[0m in \u001b[0;36mwrapper\u001b[1;34m(*args, **kwargs)\u001b[0m\n\u001b[0;32m    309\u001b[0m                     \u001b[0mstacklevel\u001b[0m\u001b[1;33m=\u001b[0m\u001b[0mstacklevel\u001b[0m\u001b[1;33m,\u001b[0m\u001b[1;33m\u001b[0m\u001b[1;33m\u001b[0m\u001b[0m\n\u001b[0;32m    310\u001b[0m                 )\n\u001b[1;32m--> 311\u001b[1;33m             \u001b[1;32mreturn\u001b[0m \u001b[0mfunc\u001b[0m\u001b[1;33m(\u001b[0m\u001b[1;33m*\u001b[0m\u001b[0margs\u001b[0m\u001b[1;33m,\u001b[0m \u001b[1;33m**\u001b[0m\u001b[0mkwargs\u001b[0m\u001b[1;33m)\u001b[0m\u001b[1;33m\u001b[0m\u001b[1;33m\u001b[0m\u001b[0m\n\u001b[0m\u001b[0;32m    312\u001b[0m \u001b[1;33m\u001b[0m\u001b[0m\n\u001b[0;32m    313\u001b[0m         \u001b[1;32mreturn\u001b[0m \u001b[0mwrapper\u001b[0m\u001b[1;33m\u001b[0m\u001b[1;33m\u001b[0m\u001b[0m\n",
      "\u001b[1;32mc:\\users\\natan\\pycharmprojects\\projeto_modulo5\\venv\\lib\\site-packages\\pandas\\core\\frame.py\u001b[0m in \u001b[0;36mdrop\u001b[1;34m(self, labels, axis, index, columns, level, inplace, errors)\u001b[0m\n\u001b[0;32m   4899\u001b[0m                 \u001b[0mweight\u001b[0m  \u001b[1;36m1.0\u001b[0m     \u001b[1;36m0.8\u001b[0m\u001b[1;33m\u001b[0m\u001b[1;33m\u001b[0m\u001b[0m\n\u001b[0;32m   4900\u001b[0m         \"\"\"\n\u001b[1;32m-> 4901\u001b[1;33m         return super().drop(\n\u001b[0m\u001b[0;32m   4902\u001b[0m             \u001b[0mlabels\u001b[0m\u001b[1;33m=\u001b[0m\u001b[0mlabels\u001b[0m\u001b[1;33m,\u001b[0m\u001b[1;33m\u001b[0m\u001b[1;33m\u001b[0m\u001b[0m\n\u001b[0;32m   4903\u001b[0m             \u001b[0maxis\u001b[0m\u001b[1;33m=\u001b[0m\u001b[0maxis\u001b[0m\u001b[1;33m,\u001b[0m\u001b[1;33m\u001b[0m\u001b[1;33m\u001b[0m\u001b[0m\n",
      "\u001b[1;32mc:\\users\\natan\\pycharmprojects\\projeto_modulo5\\venv\\lib\\site-packages\\pandas\\core\\generic.py\u001b[0m in \u001b[0;36mdrop\u001b[1;34m(self, labels, axis, index, columns, level, inplace, errors)\u001b[0m\n\u001b[0;32m   4145\u001b[0m         \u001b[1;32mfor\u001b[0m \u001b[0maxis\u001b[0m\u001b[1;33m,\u001b[0m \u001b[0mlabels\u001b[0m \u001b[1;32min\u001b[0m \u001b[0maxes\u001b[0m\u001b[1;33m.\u001b[0m\u001b[0mitems\u001b[0m\u001b[1;33m(\u001b[0m\u001b[1;33m)\u001b[0m\u001b[1;33m:\u001b[0m\u001b[1;33m\u001b[0m\u001b[1;33m\u001b[0m\u001b[0m\n\u001b[0;32m   4146\u001b[0m             \u001b[1;32mif\u001b[0m \u001b[0mlabels\u001b[0m \u001b[1;32mis\u001b[0m \u001b[1;32mnot\u001b[0m \u001b[1;32mNone\u001b[0m\u001b[1;33m:\u001b[0m\u001b[1;33m\u001b[0m\u001b[1;33m\u001b[0m\u001b[0m\n\u001b[1;32m-> 4147\u001b[1;33m                 \u001b[0mobj\u001b[0m \u001b[1;33m=\u001b[0m \u001b[0mobj\u001b[0m\u001b[1;33m.\u001b[0m\u001b[0m_drop_axis\u001b[0m\u001b[1;33m(\u001b[0m\u001b[0mlabels\u001b[0m\u001b[1;33m,\u001b[0m \u001b[0maxis\u001b[0m\u001b[1;33m,\u001b[0m \u001b[0mlevel\u001b[0m\u001b[1;33m=\u001b[0m\u001b[0mlevel\u001b[0m\u001b[1;33m,\u001b[0m \u001b[0merrors\u001b[0m\u001b[1;33m=\u001b[0m\u001b[0merrors\u001b[0m\u001b[1;33m)\u001b[0m\u001b[1;33m\u001b[0m\u001b[1;33m\u001b[0m\u001b[0m\n\u001b[0m\u001b[0;32m   4148\u001b[0m \u001b[1;33m\u001b[0m\u001b[0m\n\u001b[0;32m   4149\u001b[0m         \u001b[1;32mif\u001b[0m \u001b[0minplace\u001b[0m\u001b[1;33m:\u001b[0m\u001b[1;33m\u001b[0m\u001b[1;33m\u001b[0m\u001b[0m\n",
      "\u001b[1;32mc:\\users\\natan\\pycharmprojects\\projeto_modulo5\\venv\\lib\\site-packages\\pandas\\core\\generic.py\u001b[0m in \u001b[0;36m_drop_axis\u001b[1;34m(self, labels, axis, level, errors)\u001b[0m\n\u001b[0;32m   4180\u001b[0m                 \u001b[0mnew_axis\u001b[0m \u001b[1;33m=\u001b[0m \u001b[0maxis\u001b[0m\u001b[1;33m.\u001b[0m\u001b[0mdrop\u001b[0m\u001b[1;33m(\u001b[0m\u001b[0mlabels\u001b[0m\u001b[1;33m,\u001b[0m \u001b[0mlevel\u001b[0m\u001b[1;33m=\u001b[0m\u001b[0mlevel\u001b[0m\u001b[1;33m,\u001b[0m \u001b[0merrors\u001b[0m\u001b[1;33m=\u001b[0m\u001b[0merrors\u001b[0m\u001b[1;33m)\u001b[0m\u001b[1;33m\u001b[0m\u001b[1;33m\u001b[0m\u001b[0m\n\u001b[0;32m   4181\u001b[0m             \u001b[1;32melse\u001b[0m\u001b[1;33m:\u001b[0m\u001b[1;33m\u001b[0m\u001b[1;33m\u001b[0m\u001b[0m\n\u001b[1;32m-> 4182\u001b[1;33m                 \u001b[0mnew_axis\u001b[0m \u001b[1;33m=\u001b[0m \u001b[0maxis\u001b[0m\u001b[1;33m.\u001b[0m\u001b[0mdrop\u001b[0m\u001b[1;33m(\u001b[0m\u001b[0mlabels\u001b[0m\u001b[1;33m,\u001b[0m \u001b[0merrors\u001b[0m\u001b[1;33m=\u001b[0m\u001b[0merrors\u001b[0m\u001b[1;33m)\u001b[0m\u001b[1;33m\u001b[0m\u001b[1;33m\u001b[0m\u001b[0m\n\u001b[0m\u001b[0;32m   4183\u001b[0m             \u001b[0mresult\u001b[0m \u001b[1;33m=\u001b[0m \u001b[0mself\u001b[0m\u001b[1;33m.\u001b[0m\u001b[0mreindex\u001b[0m\u001b[1;33m(\u001b[0m\u001b[1;33m**\u001b[0m\u001b[1;33m{\u001b[0m\u001b[0maxis_name\u001b[0m\u001b[1;33m:\u001b[0m \u001b[0mnew_axis\u001b[0m\u001b[1;33m}\u001b[0m\u001b[1;33m)\u001b[0m\u001b[1;33m\u001b[0m\u001b[1;33m\u001b[0m\u001b[0m\n\u001b[0;32m   4184\u001b[0m \u001b[1;33m\u001b[0m\u001b[0m\n",
      "\u001b[1;32mc:\\users\\natan\\pycharmprojects\\projeto_modulo5\\venv\\lib\\site-packages\\pandas\\core\\indexes\\base.py\u001b[0m in \u001b[0;36mdrop\u001b[1;34m(self, labels, errors)\u001b[0m\n\u001b[0;32m   6016\u001b[0m         \u001b[1;32mif\u001b[0m \u001b[0mmask\u001b[0m\u001b[1;33m.\u001b[0m\u001b[0many\u001b[0m\u001b[1;33m(\u001b[0m\u001b[1;33m)\u001b[0m\u001b[1;33m:\u001b[0m\u001b[1;33m\u001b[0m\u001b[1;33m\u001b[0m\u001b[0m\n\u001b[0;32m   6017\u001b[0m             \u001b[1;32mif\u001b[0m \u001b[0merrors\u001b[0m \u001b[1;33m!=\u001b[0m \u001b[1;34m\"ignore\"\u001b[0m\u001b[1;33m:\u001b[0m\u001b[1;33m\u001b[0m\u001b[1;33m\u001b[0m\u001b[0m\n\u001b[1;32m-> 6018\u001b[1;33m                 \u001b[1;32mraise\u001b[0m \u001b[0mKeyError\u001b[0m\u001b[1;33m(\u001b[0m\u001b[1;34mf\"{labels[mask]} not found in axis\"\u001b[0m\u001b[1;33m)\u001b[0m\u001b[1;33m\u001b[0m\u001b[1;33m\u001b[0m\u001b[0m\n\u001b[0m\u001b[0;32m   6019\u001b[0m             \u001b[0mindexer\u001b[0m \u001b[1;33m=\u001b[0m \u001b[0mindexer\u001b[0m\u001b[1;33m[\u001b[0m\u001b[1;33m~\u001b[0m\u001b[0mmask\u001b[0m\u001b[1;33m]\u001b[0m\u001b[1;33m\u001b[0m\u001b[1;33m\u001b[0m\u001b[0m\n\u001b[0;32m   6020\u001b[0m         \u001b[1;32mreturn\u001b[0m \u001b[0mself\u001b[0m\u001b[1;33m.\u001b[0m\u001b[0mdelete\u001b[0m\u001b[1;33m(\u001b[0m\u001b[0mindexer\u001b[0m\u001b[1;33m)\u001b[0m\u001b[1;33m\u001b[0m\u001b[1;33m\u001b[0m\u001b[0m\n",
      "\u001b[1;31mKeyError\u001b[0m: \"['index'] not found in axis\""
     ]
    }
   ],
   "source": [
    "df.drop(columns='index', inplace=True)"
   ]
  },
  {
   "cell_type": "code",
   "execution_count": 26,
   "id": "13578625-3c30-4df0-a7c4-674b6a1bf491",
   "metadata": {},
   "outputs": [
    {
     "data": {
      "text/html": [
       "<div>\n",
       "<style scoped>\n",
       "    .dataframe tbody tr th:only-of-type {\n",
       "        vertical-align: middle;\n",
       "    }\n",
       "\n",
       "    .dataframe tbody tr th {\n",
       "        vertical-align: top;\n",
       "    }\n",
       "\n",
       "    .dataframe thead th {\n",
       "        text-align: right;\n",
       "    }\n",
       "</style>\n",
       "<table border=\"1\" class=\"dataframe\">\n",
       "  <thead>\n",
       "    <tr style=\"text-align: right;\">\n",
       "      <th></th>\n",
       "      <th>utc_time</th>\n",
       "      <th>artist</th>\n",
       "      <th>album</th>\n",
       "      <th>track</th>\n",
       "    </tr>\n",
       "  </thead>\n",
       "  <tbody>\n",
       "    <tr>\n",
       "      <th>0</th>\n",
       "      <td>2021-10-07</td>\n",
       "      <td>Pabllo Vittar</td>\n",
       "      <td>Batidão Tropical</td>\n",
       "      <td>Bang Bang</td>\n",
       "    </tr>\n",
       "    <tr>\n",
       "      <th>1</th>\n",
       "      <td>2021-10-07</td>\n",
       "      <td>Pabllo Vittar</td>\n",
       "      <td>Batidão Tropical</td>\n",
       "      <td>Não é Papel de Homem</td>\n",
       "    </tr>\n",
       "    <tr>\n",
       "      <th>2</th>\n",
       "      <td>2021-10-07</td>\n",
       "      <td>Pabllo Vittar</td>\n",
       "      <td>Batidão Tropical</td>\n",
       "      <td>Zap Zum</td>\n",
       "    </tr>\n",
       "    <tr>\n",
       "      <th>3</th>\n",
       "      <td>2021-10-07</td>\n",
       "      <td>Pabllo Vittar</td>\n",
       "      <td>Batidão Tropical</td>\n",
       "      <td>Ultra Som</td>\n",
       "    </tr>\n",
       "    <tr>\n",
       "      <th>4</th>\n",
       "      <td>2021-10-07</td>\n",
       "      <td>Pabllo Vittar</td>\n",
       "      <td>Batidão Tropical</td>\n",
       "      <td>Apaixonada</td>\n",
       "    </tr>\n",
       "  </tbody>\n",
       "</table>\n",
       "</div>"
      ],
      "text/plain": [
       "    utc_time         artist             album                 track\n",
       "0 2021-10-07  Pabllo Vittar  Batidão Tropical             Bang Bang\n",
       "1 2021-10-07  Pabllo Vittar  Batidão Tropical  Não é Papel de Homem\n",
       "2 2021-10-07  Pabllo Vittar  Batidão Tropical               Zap Zum\n",
       "3 2021-10-07  Pabllo Vittar  Batidão Tropical             Ultra Som\n",
       "4 2021-10-07  Pabllo Vittar  Batidão Tropical            Apaixonada"
      ]
     },
     "execution_count": 26,
     "metadata": {},
     "output_type": "execute_result"
    }
   ],
   "source": [
    "df.head()"
   ]
  },
  {
   "cell_type": "code",
   "execution_count": 27,
   "id": "7e929016-4a58-4c80-ac4b-6bcb04c81938",
   "metadata": {},
   "outputs": [],
   "source": [
    "df.rename(columns={'utc_time': 'data_reprodução', 'artist' : 'artista',\n",
    "                  'track': 'faixa'}, inplace=True)"
   ]
  },
  {
   "cell_type": "code",
   "execution_count": 28,
   "id": "7eefa311-5303-429a-ba23-185de216e94f",
   "metadata": {},
   "outputs": [
    {
     "data": {
      "text/html": [
       "<div>\n",
       "<style scoped>\n",
       "    .dataframe tbody tr th:only-of-type {\n",
       "        vertical-align: middle;\n",
       "    }\n",
       "\n",
       "    .dataframe tbody tr th {\n",
       "        vertical-align: top;\n",
       "    }\n",
       "\n",
       "    .dataframe thead th {\n",
       "        text-align: right;\n",
       "    }\n",
       "</style>\n",
       "<table border=\"1\" class=\"dataframe\">\n",
       "  <thead>\n",
       "    <tr style=\"text-align: right;\">\n",
       "      <th></th>\n",
       "      <th>data_reprodução</th>\n",
       "      <th>artista</th>\n",
       "      <th>album</th>\n",
       "      <th>faixa</th>\n",
       "    </tr>\n",
       "  </thead>\n",
       "  <tbody>\n",
       "    <tr>\n",
       "      <th>0</th>\n",
       "      <td>2021-10-07</td>\n",
       "      <td>Pabllo Vittar</td>\n",
       "      <td>Batidão Tropical</td>\n",
       "      <td>Bang Bang</td>\n",
       "    </tr>\n",
       "    <tr>\n",
       "      <th>1</th>\n",
       "      <td>2021-10-07</td>\n",
       "      <td>Pabllo Vittar</td>\n",
       "      <td>Batidão Tropical</td>\n",
       "      <td>Não é Papel de Homem</td>\n",
       "    </tr>\n",
       "    <tr>\n",
       "      <th>2</th>\n",
       "      <td>2021-10-07</td>\n",
       "      <td>Pabllo Vittar</td>\n",
       "      <td>Batidão Tropical</td>\n",
       "      <td>Zap Zum</td>\n",
       "    </tr>\n",
       "    <tr>\n",
       "      <th>3</th>\n",
       "      <td>2021-10-07</td>\n",
       "      <td>Pabllo Vittar</td>\n",
       "      <td>Batidão Tropical</td>\n",
       "      <td>Ultra Som</td>\n",
       "    </tr>\n",
       "    <tr>\n",
       "      <th>4</th>\n",
       "      <td>2021-10-07</td>\n",
       "      <td>Pabllo Vittar</td>\n",
       "      <td>Batidão Tropical</td>\n",
       "      <td>Apaixonada</td>\n",
       "    </tr>\n",
       "  </tbody>\n",
       "</table>\n",
       "</div>"
      ],
      "text/plain": [
       "  data_reprodução        artista             album                 faixa\n",
       "0      2021-10-07  Pabllo Vittar  Batidão Tropical             Bang Bang\n",
       "1      2021-10-07  Pabllo Vittar  Batidão Tropical  Não é Papel de Homem\n",
       "2      2021-10-07  Pabllo Vittar  Batidão Tropical               Zap Zum\n",
       "3      2021-10-07  Pabllo Vittar  Batidão Tropical             Ultra Som\n",
       "4      2021-10-07  Pabllo Vittar  Batidão Tropical            Apaixonada"
      ]
     },
     "execution_count": 28,
     "metadata": {},
     "output_type": "execute_result"
    }
   ],
   "source": [
    "df.head()"
   ]
  },
  {
   "cell_type": "code",
   "execution_count": 29,
   "id": "a4d9b6cf-6d3e-4cb1-a531-a5ce8efcecfb",
   "metadata": {},
   "outputs": [
    {
     "name": "stdout",
     "output_type": "stream",
     "text": [
      "<class 'pandas.core.frame.DataFrame'>\n",
      "RangeIndex: 65621 entries, 0 to 65620\n",
      "Data columns (total 4 columns):\n",
      " #   Column           Non-Null Count  Dtype         \n",
      "---  ------           --------------  -----         \n",
      " 0   data_reprodução  65621 non-null  datetime64[ns]\n",
      " 1   artista          65621 non-null  object        \n",
      " 2   album            65621 non-null  object        \n",
      " 3   faixa            65621 non-null  object        \n",
      "dtypes: datetime64[ns](1), object(3)\n",
      "memory usage: 2.0+ MB\n"
     ]
    }
   ],
   "source": [
    "df.info()"
   ]
  },
  {
   "cell_type": "markdown",
   "id": "63437210-0216-4072-bf68-57c1c565f5a1",
   "metadata": {},
   "source": [
    "## Explorando um pouco"
   ]
  },
  {
   "cell_type": "markdown",
   "id": "cdfc36fd-5d3c-4e63-86ca-d6bc5ac517c8",
   "metadata": {},
   "source": [
    "### Top 10 Artistas mais escutados"
   ]
  },
  {
   "cell_type": "code",
   "execution_count": 30,
   "id": "94186e21-9869-403d-8386-6b3866d9eb66",
   "metadata": {},
   "outputs": [
    {
     "data": {
      "text/plain": [
       "Lana Del Rey              9327\n",
       "Birdy                     4101\n",
       "Kerli                     3363\n",
       "Lorde                     2506\n",
       "Florence + the Machine    2365\n",
       "Nicki Minaj               1759\n",
       "FKA twigs                 1706\n",
       "Camila Cabello            1380\n",
       "Björk                     1370\n",
       "Ke$ha                     1218\n",
       "Name: artista, dtype: int64"
      ]
     },
     "execution_count": 30,
     "metadata": {},
     "output_type": "execute_result"
    }
   ],
   "source": [
    "df.artista.value_counts().head(10)"
   ]
  },
  {
   "cell_type": "markdown",
   "id": "e8d58e27-10d1-4f93-9461-157c655b95b4",
   "metadata": {},
   "source": [
    "### Top 10 Albuns mais escutados"
   ]
  },
  {
   "cell_type": "code",
   "execution_count": 31,
   "id": "59b7800e-3fa2-4b6b-986e-f8064c299ade",
   "metadata": {},
   "outputs": [
    {
     "data": {
      "text/plain": [
       "Beautiful Lies (Deluxe)                      3578\n",
       "Ultraviolence                                3026\n",
       "Melodrama                                    1687\n",
       "How Big, How Blue, How Beautiful (Deluxe)    1334\n",
       "Utopia                                       1048\n",
       "Ctrl                                         1041\n",
       "Big Eyes                                     1038\n",
       "Born to Die                                   998\n",
       "LP1                                           960\n",
       "Broke with Expensive Taste                    924\n",
       "Name: album, dtype: int64"
      ]
     },
     "execution_count": 31,
     "metadata": {},
     "output_type": "execute_result"
    }
   ],
   "source": [
    "df.album.value_counts().head(10)"
   ]
  },
  {
   "cell_type": "markdown",
   "id": "05d676df-4cbc-4116-b140-7a011f0f5d37",
   "metadata": {},
   "source": [
    "### Top 10 Faixas mais escutadas"
   ]
  },
  {
   "cell_type": "code",
   "execution_count": 32,
   "id": "4f3cd16c-e393-488d-a4d9-e3ef5655bddc",
   "metadata": {},
   "outputs": [
    {
     "data": {
      "text/plain": [
       "Big Eyes         834\n",
       "Green Light      542\n",
       "Blossom          427\n",
       "Diamond Hard     347\n",
       "Liability        346\n",
       "Words            314\n",
       "On My Mind       313\n",
       "Feral Hearts     303\n",
       "Ride             301\n",
       "Growing Pains    292\n",
       "Name: faixa, dtype: int64"
      ]
     },
     "execution_count": 32,
     "metadata": {},
     "output_type": "execute_result"
    }
   ],
   "source": [
    "df.faixa.value_counts().head(10)"
   ]
  },
  {
   "cell_type": "markdown",
   "id": "bed334fa-d974-4ead-abed-d1aa7b23777b",
   "metadata": {},
   "source": [
    "### Top 10 Dias que eu mais escutei música"
   ]
  },
  {
   "cell_type": "code",
   "execution_count": 33,
   "id": "67d96a89-5906-41d7-970e-cb8fa43d97d0",
   "metadata": {},
   "outputs": [
    {
     "data": {
      "text/plain": [
       "2014-02-12    470\n",
       "2014-10-17    387\n",
       "2014-10-30    291\n",
       "2014-11-25    246\n",
       "2015-06-05    234\n",
       "2014-01-12    209\n",
       "2014-10-20    206\n",
       "2015-01-27    204\n",
       "2014-10-16    197\n",
       "2015-01-29    194\n",
       "Name: data_reprodução, dtype: int64"
      ]
     },
     "execution_count": 33,
     "metadata": {},
     "output_type": "execute_result"
    }
   ],
   "source": [
    "df.data_reprodução.value_counts().sort_values(ascending=False).head(10)"
   ]
  },
  {
   "cell_type": "code",
   "execution_count": 34,
   "id": "c9cd2c25-10b1-41fb-8fef-505aa0207c2f",
   "metadata": {},
   "outputs": [
    {
     "data": {
      "text/plain": [
       "(65621, 4)"
      ]
     },
     "execution_count": 34,
     "metadata": {},
     "output_type": "execute_result"
    }
   ],
   "source": [
    "df.shape"
   ]
  },
  {
   "cell_type": "code",
   "execution_count": 35,
   "id": "5041df9f-0c94-4773-8183-85b869b6019a",
   "metadata": {},
   "outputs": [],
   "source": [
    "df_data = df.data_reprodução.value_counts().sort_values(ascending=False).head(10)"
   ]
  },
  {
   "cell_type": "code",
   "execution_count": 36,
   "id": "71795c41-bfcd-4f0d-a70b-2845e1d77471",
   "metadata": {},
   "outputs": [],
   "source": [
    "ranking_data = pd.DataFrame({'data_reprodução':df_data.index, 'valores':df_data.values})\n"
   ]
  },
  {
   "cell_type": "code",
   "execution_count": 37,
   "id": "599ee959-b813-48c3-b165-a1d0851cf2da",
   "metadata": {},
   "outputs": [
    {
     "data": {
      "text/html": [
       "<div>\n",
       "<style scoped>\n",
       "    .dataframe tbody tr th:only-of-type {\n",
       "        vertical-align: middle;\n",
       "    }\n",
       "\n",
       "    .dataframe tbody tr th {\n",
       "        vertical-align: top;\n",
       "    }\n",
       "\n",
       "    .dataframe thead th {\n",
       "        text-align: right;\n",
       "    }\n",
       "</style>\n",
       "<table border=\"1\" class=\"dataframe\">\n",
       "  <thead>\n",
       "    <tr style=\"text-align: right;\">\n",
       "      <th></th>\n",
       "      <th>data_reprodução</th>\n",
       "      <th>valores</th>\n",
       "    </tr>\n",
       "  </thead>\n",
       "  <tbody>\n",
       "    <tr>\n",
       "      <th>0</th>\n",
       "      <td>2014-02-12</td>\n",
       "      <td>470</td>\n",
       "    </tr>\n",
       "    <tr>\n",
       "      <th>1</th>\n",
       "      <td>2014-10-17</td>\n",
       "      <td>387</td>\n",
       "    </tr>\n",
       "    <tr>\n",
       "      <th>2</th>\n",
       "      <td>2014-10-30</td>\n",
       "      <td>291</td>\n",
       "    </tr>\n",
       "    <tr>\n",
       "      <th>3</th>\n",
       "      <td>2014-11-25</td>\n",
       "      <td>246</td>\n",
       "    </tr>\n",
       "    <tr>\n",
       "      <th>4</th>\n",
       "      <td>2015-06-05</td>\n",
       "      <td>234</td>\n",
       "    </tr>\n",
       "  </tbody>\n",
       "</table>\n",
       "</div>"
      ],
      "text/plain": [
       "  data_reprodução  valores\n",
       "0      2014-02-12      470\n",
       "1      2014-10-17      387\n",
       "2      2014-10-30      291\n",
       "3      2014-11-25      246\n",
       "4      2015-06-05      234"
      ]
     },
     "execution_count": 37,
     "metadata": {},
     "output_type": "execute_result"
    }
   ],
   "source": [
    "ranking_data.head()"
   ]
  },
  {
   "cell_type": "markdown",
   "id": "a93380d2-e094-4dfe-a18f-c75cc7f57ce7",
   "metadata": {},
   "source": [
    "### Decidimos utilizar uma média de 3 minutos de duração para todas as músicas"
   ]
  },
  {
   "cell_type": "code",
   "execution_count": 38,
   "id": "fcf84a21-89e5-4070-9e07-3db1375c0a65",
   "metadata": {},
   "outputs": [],
   "source": [
    "ranking_data['minutos'] = ranking_data['valores'] * 3"
   ]
  },
  {
   "cell_type": "code",
   "execution_count": 39,
   "id": "766fd4be-1312-4815-90e2-c2b9632ce86b",
   "metadata": {},
   "outputs": [],
   "source": [
    "ranking_data['horas'] = ranking_data['minutos'] / 60"
   ]
  },
  {
   "cell_type": "code",
   "execution_count": 40,
   "id": "780c7d1e-718e-415b-847c-ae5cbcb7691a",
   "metadata": {},
   "outputs": [],
   "source": [
    "ranking_data.rename(columns={'valores': 'reproduções'}, inplace=True)"
   ]
  },
  {
   "cell_type": "code",
   "execution_count": 41,
   "id": "802cce52-79c3-4c1e-abc3-04c9291db590",
   "metadata": {},
   "outputs": [
    {
     "data": {
      "text/html": [
       "<div>\n",
       "<style scoped>\n",
       "    .dataframe tbody tr th:only-of-type {\n",
       "        vertical-align: middle;\n",
       "    }\n",
       "\n",
       "    .dataframe tbody tr th {\n",
       "        vertical-align: top;\n",
       "    }\n",
       "\n",
       "    .dataframe thead th {\n",
       "        text-align: right;\n",
       "    }\n",
       "</style>\n",
       "<table border=\"1\" class=\"dataframe\">\n",
       "  <thead>\n",
       "    <tr style=\"text-align: right;\">\n",
       "      <th></th>\n",
       "      <th>data_reprodução</th>\n",
       "      <th>reproduções</th>\n",
       "      <th>minutos</th>\n",
       "      <th>horas</th>\n",
       "    </tr>\n",
       "  </thead>\n",
       "  <tbody>\n",
       "    <tr>\n",
       "      <th>0</th>\n",
       "      <td>2014-02-12</td>\n",
       "      <td>470</td>\n",
       "      <td>1410</td>\n",
       "      <td>23.50</td>\n",
       "    </tr>\n",
       "    <tr>\n",
       "      <th>1</th>\n",
       "      <td>2014-10-17</td>\n",
       "      <td>387</td>\n",
       "      <td>1161</td>\n",
       "      <td>19.35</td>\n",
       "    </tr>\n",
       "    <tr>\n",
       "      <th>2</th>\n",
       "      <td>2014-10-30</td>\n",
       "      <td>291</td>\n",
       "      <td>873</td>\n",
       "      <td>14.55</td>\n",
       "    </tr>\n",
       "    <tr>\n",
       "      <th>3</th>\n",
       "      <td>2014-11-25</td>\n",
       "      <td>246</td>\n",
       "      <td>738</td>\n",
       "      <td>12.30</td>\n",
       "    </tr>\n",
       "    <tr>\n",
       "      <th>4</th>\n",
       "      <td>2015-06-05</td>\n",
       "      <td>234</td>\n",
       "      <td>702</td>\n",
       "      <td>11.70</td>\n",
       "    </tr>\n",
       "  </tbody>\n",
       "</table>\n",
       "</div>"
      ],
      "text/plain": [
       "  data_reprodução  reproduções  minutos  horas\n",
       "0      2014-02-12          470     1410  23.50\n",
       "1      2014-10-17          387     1161  19.35\n",
       "2      2014-10-30          291      873  14.55\n",
       "3      2014-11-25          246      738  12.30\n",
       "4      2015-06-05          234      702  11.70"
      ]
     },
     "execution_count": 41,
     "metadata": {},
     "output_type": "execute_result"
    }
   ],
   "source": [
    "ranking_data.head()"
   ]
  },
  {
   "cell_type": "code",
   "execution_count": 42,
   "id": "6d936962-ba41-401f-80de-496bed680fbe",
   "metadata": {},
   "outputs": [
    {
     "data": {
      "text/html": [
       "<div>\n",
       "<style scoped>\n",
       "    .dataframe tbody tr th:only-of-type {\n",
       "        vertical-align: middle;\n",
       "    }\n",
       "\n",
       "    .dataframe tbody tr th {\n",
       "        vertical-align: top;\n",
       "    }\n",
       "\n",
       "    .dataframe thead th {\n",
       "        text-align: right;\n",
       "    }\n",
       "</style>\n",
       "<table border=\"1\" class=\"dataframe\">\n",
       "  <thead>\n",
       "    <tr style=\"text-align: right;\">\n",
       "      <th></th>\n",
       "      <th>data_reprodução</th>\n",
       "      <th>artista</th>\n",
       "      <th>album</th>\n",
       "      <th>faixa</th>\n",
       "    </tr>\n",
       "  </thead>\n",
       "  <tbody>\n",
       "    <tr>\n",
       "      <th>0</th>\n",
       "      <td>2021-10-07</td>\n",
       "      <td>Pabllo Vittar</td>\n",
       "      <td>Batidão Tropical</td>\n",
       "      <td>Bang Bang</td>\n",
       "    </tr>\n",
       "    <tr>\n",
       "      <th>1</th>\n",
       "      <td>2021-10-07</td>\n",
       "      <td>Pabllo Vittar</td>\n",
       "      <td>Batidão Tropical</td>\n",
       "      <td>Não é Papel de Homem</td>\n",
       "    </tr>\n",
       "    <tr>\n",
       "      <th>2</th>\n",
       "      <td>2021-10-07</td>\n",
       "      <td>Pabllo Vittar</td>\n",
       "      <td>Batidão Tropical</td>\n",
       "      <td>Zap Zum</td>\n",
       "    </tr>\n",
       "    <tr>\n",
       "      <th>3</th>\n",
       "      <td>2021-10-07</td>\n",
       "      <td>Pabllo Vittar</td>\n",
       "      <td>Batidão Tropical</td>\n",
       "      <td>Ultra Som</td>\n",
       "    </tr>\n",
       "    <tr>\n",
       "      <th>4</th>\n",
       "      <td>2021-10-07</td>\n",
       "      <td>Pabllo Vittar</td>\n",
       "      <td>Batidão Tropical</td>\n",
       "      <td>Apaixonada</td>\n",
       "    </tr>\n",
       "  </tbody>\n",
       "</table>\n",
       "</div>"
      ],
      "text/plain": [
       "  data_reprodução        artista             album                 faixa\n",
       "0      2021-10-07  Pabllo Vittar  Batidão Tropical             Bang Bang\n",
       "1      2021-10-07  Pabllo Vittar  Batidão Tropical  Não é Papel de Homem\n",
       "2      2021-10-07  Pabllo Vittar  Batidão Tropical               Zap Zum\n",
       "3      2021-10-07  Pabllo Vittar  Batidão Tropical             Ultra Som\n",
       "4      2021-10-07  Pabllo Vittar  Batidão Tropical            Apaixonada"
      ]
     },
     "execution_count": 42,
     "metadata": {},
     "output_type": "execute_result"
    }
   ],
   "source": [
    "df.head()"
   ]
  },
  {
   "cell_type": "code",
   "execution_count": 43,
   "id": "68d7fb53-d481-4f29-ae5e-f4f70f92e464",
   "metadata": {},
   "outputs": [],
   "source": [
    "df_teste = df.copy(deep=True)"
   ]
  },
  {
   "cell_type": "code",
   "execution_count": 44,
   "id": "c82f1858-b8cf-4914-b476-dd0d44740fc7",
   "metadata": {},
   "outputs": [
    {
     "data": {
      "text/html": [
       "<div>\n",
       "<style scoped>\n",
       "    .dataframe tbody tr th:only-of-type {\n",
       "        vertical-align: middle;\n",
       "    }\n",
       "\n",
       "    .dataframe tbody tr th {\n",
       "        vertical-align: top;\n",
       "    }\n",
       "\n",
       "    .dataframe thead th {\n",
       "        text-align: right;\n",
       "    }\n",
       "</style>\n",
       "<table border=\"1\" class=\"dataframe\">\n",
       "  <thead>\n",
       "    <tr style=\"text-align: right;\">\n",
       "      <th></th>\n",
       "      <th>data_reprodução</th>\n",
       "      <th>artista</th>\n",
       "      <th>album</th>\n",
       "      <th>faixa</th>\n",
       "    </tr>\n",
       "  </thead>\n",
       "  <tbody>\n",
       "    <tr>\n",
       "      <th>0</th>\n",
       "      <td>2021-10-07</td>\n",
       "      <td>Pabllo Vittar</td>\n",
       "      <td>Batidão Tropical</td>\n",
       "      <td>Bang Bang</td>\n",
       "    </tr>\n",
       "    <tr>\n",
       "      <th>1</th>\n",
       "      <td>2021-10-07</td>\n",
       "      <td>Pabllo Vittar</td>\n",
       "      <td>Batidão Tropical</td>\n",
       "      <td>Não é Papel de Homem</td>\n",
       "    </tr>\n",
       "    <tr>\n",
       "      <th>2</th>\n",
       "      <td>2021-10-07</td>\n",
       "      <td>Pabllo Vittar</td>\n",
       "      <td>Batidão Tropical</td>\n",
       "      <td>Zap Zum</td>\n",
       "    </tr>\n",
       "    <tr>\n",
       "      <th>3</th>\n",
       "      <td>2021-10-07</td>\n",
       "      <td>Pabllo Vittar</td>\n",
       "      <td>Batidão Tropical</td>\n",
       "      <td>Ultra Som</td>\n",
       "    </tr>\n",
       "    <tr>\n",
       "      <th>4</th>\n",
       "      <td>2021-10-07</td>\n",
       "      <td>Pabllo Vittar</td>\n",
       "      <td>Batidão Tropical</td>\n",
       "      <td>Apaixonada</td>\n",
       "    </tr>\n",
       "  </tbody>\n",
       "</table>\n",
       "</div>"
      ],
      "text/plain": [
       "  data_reprodução        artista             album                 faixa\n",
       "0      2021-10-07  Pabllo Vittar  Batidão Tropical             Bang Bang\n",
       "1      2021-10-07  Pabllo Vittar  Batidão Tropical  Não é Papel de Homem\n",
       "2      2021-10-07  Pabllo Vittar  Batidão Tropical               Zap Zum\n",
       "3      2021-10-07  Pabllo Vittar  Batidão Tropical             Ultra Som\n",
       "4      2021-10-07  Pabllo Vittar  Batidão Tropical            Apaixonada"
      ]
     },
     "execution_count": 44,
     "metadata": {},
     "output_type": "execute_result"
    }
   ],
   "source": [
    "df_teste.head()"
   ]
  },
  {
   "cell_type": "code",
   "execution_count": 45,
   "id": "544b04e9-8ae1-4d39-8cbb-5a6aca247bab",
   "metadata": {},
   "outputs": [],
   "source": [
    "df_teste['tempo_medio_duração'] = 3"
   ]
  },
  {
   "cell_type": "code",
   "execution_count": 46,
   "id": "18944ad1-05f4-4c4a-b63b-b5a19c6cf729",
   "metadata": {},
   "outputs": [
    {
     "data": {
      "text/html": [
       "<div>\n",
       "<style scoped>\n",
       "    .dataframe tbody tr th:only-of-type {\n",
       "        vertical-align: middle;\n",
       "    }\n",
       "\n",
       "    .dataframe tbody tr th {\n",
       "        vertical-align: top;\n",
       "    }\n",
       "\n",
       "    .dataframe thead th {\n",
       "        text-align: right;\n",
       "    }\n",
       "</style>\n",
       "<table border=\"1\" class=\"dataframe\">\n",
       "  <thead>\n",
       "    <tr style=\"text-align: right;\">\n",
       "      <th></th>\n",
       "      <th>data_reprodução</th>\n",
       "      <th>artista</th>\n",
       "      <th>album</th>\n",
       "      <th>faixa</th>\n",
       "      <th>tempo_medio_duração</th>\n",
       "    </tr>\n",
       "  </thead>\n",
       "  <tbody>\n",
       "    <tr>\n",
       "      <th>0</th>\n",
       "      <td>2021-10-07</td>\n",
       "      <td>Pabllo Vittar</td>\n",
       "      <td>Batidão Tropical</td>\n",
       "      <td>Bang Bang</td>\n",
       "      <td>3</td>\n",
       "    </tr>\n",
       "    <tr>\n",
       "      <th>1</th>\n",
       "      <td>2021-10-07</td>\n",
       "      <td>Pabllo Vittar</td>\n",
       "      <td>Batidão Tropical</td>\n",
       "      <td>Não é Papel de Homem</td>\n",
       "      <td>3</td>\n",
       "    </tr>\n",
       "    <tr>\n",
       "      <th>2</th>\n",
       "      <td>2021-10-07</td>\n",
       "      <td>Pabllo Vittar</td>\n",
       "      <td>Batidão Tropical</td>\n",
       "      <td>Zap Zum</td>\n",
       "      <td>3</td>\n",
       "    </tr>\n",
       "    <tr>\n",
       "      <th>3</th>\n",
       "      <td>2021-10-07</td>\n",
       "      <td>Pabllo Vittar</td>\n",
       "      <td>Batidão Tropical</td>\n",
       "      <td>Ultra Som</td>\n",
       "      <td>3</td>\n",
       "    </tr>\n",
       "    <tr>\n",
       "      <th>4</th>\n",
       "      <td>2021-10-07</td>\n",
       "      <td>Pabllo Vittar</td>\n",
       "      <td>Batidão Tropical</td>\n",
       "      <td>Apaixonada</td>\n",
       "      <td>3</td>\n",
       "    </tr>\n",
       "  </tbody>\n",
       "</table>\n",
       "</div>"
      ],
      "text/plain": [
       "  data_reprodução        artista             album                 faixa  \\\n",
       "0      2021-10-07  Pabllo Vittar  Batidão Tropical             Bang Bang   \n",
       "1      2021-10-07  Pabllo Vittar  Batidão Tropical  Não é Papel de Homem   \n",
       "2      2021-10-07  Pabllo Vittar  Batidão Tropical               Zap Zum   \n",
       "3      2021-10-07  Pabllo Vittar  Batidão Tropical             Ultra Som   \n",
       "4      2021-10-07  Pabllo Vittar  Batidão Tropical            Apaixonada   \n",
       "\n",
       "   tempo_medio_duração  \n",
       "0                    3  \n",
       "1                    3  \n",
       "2                    3  \n",
       "3                    3  \n",
       "4                    3  "
      ]
     },
     "execution_count": 46,
     "metadata": {},
     "output_type": "execute_result"
    }
   ],
   "source": [
    "df_teste.head()"
   ]
  },
  {
   "cell_type": "code",
   "execution_count": 47,
   "id": "d8000991-3b43-4e74-b954-2b3594c39623",
   "metadata": {},
   "outputs": [
    {
     "data": {
      "text/plain": [
       "Lana Del Rey              9327\n",
       "Birdy                     4101\n",
       "Kerli                     3363\n",
       "Lorde                     2506\n",
       "Florence + the Machine    2365\n",
       "Nicki Minaj               1759\n",
       "FKA twigs                 1706\n",
       "Camila Cabello            1380\n",
       "Björk                     1370\n",
       "Ke$ha                     1218\n",
       "Name: artista, dtype: int64"
      ]
     },
     "execution_count": 47,
     "metadata": {},
     "output_type": "execute_result"
    }
   ],
   "source": [
    "df.artista.value_counts().head(10)"
   ]
  },
  {
   "cell_type": "markdown",
   "id": "3b72329f-79ab-4f2f-b584-8ab9c3b72071",
   "metadata": {},
   "source": [
    "### Ready to Go!"
   ]
  },
  {
   "cell_type": "code",
   "execution_count": 46,
   "id": "346097fa-1947-46c8-8933-f396d59ce12a",
   "metadata": {},
   "outputs": [],
   "source": [
    "df.to_csv('projeto05-lastfm.csv', index=False)"
   ]
  }
 ],
 "metadata": {
  "kernelspec": {
   "display_name": "Python 3 (ipykernel)",
   "language": "python",
   "name": "python3"
  },
  "language_info": {
   "codemirror_mode": {
    "name": "ipython",
    "version": 3
   },
   "file_extension": ".py",
   "mimetype": "text/x-python",
   "name": "python",
   "nbconvert_exporter": "python",
   "pygments_lexer": "ipython3",
   "version": "3.8.6"
  }
 },
 "nbformat": 4,
 "nbformat_minor": 5
}
