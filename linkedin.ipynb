{
 "cells": [
  {
   "cell_type": "code",
   "execution_count": 1,
   "id": "93c6a46c-75fd-4a08-b3cf-c5da455d1ee3",
   "metadata": {},
   "outputs": [],
   "source": [
    "import pandas as pd"
   ]
  },
  {
   "cell_type": "markdown",
   "id": "a01cf3e2-9a82-4614-a4af-dca9875d5b6a",
   "metadata": {},
   "source": [
    "## Carregando e limpando os dados"
   ]
  },
  {
   "cell_type": "code",
   "execution_count": 3,
   "id": "b57c1c9f-fc1b-4ed2-845f-8e6492ae6064",
   "metadata": {},
   "outputs": [],
   "source": [
    "df = pd.read_csv('Certifications.csv', encoding=\"utf-8\")"
   ]
  },
  {
   "cell_type": "code",
   "execution_count": 4,
   "id": "154ed31d-c7f0-4a5b-8742-ae5f62ec1cdd",
   "metadata": {},
   "outputs": [
    {
     "data": {
      "text/html": [
       "<div>\n",
       "<style scoped>\n",
       "    .dataframe tbody tr th:only-of-type {\n",
       "        vertical-align: middle;\n",
       "    }\n",
       "\n",
       "    .dataframe tbody tr th {\n",
       "        vertical-align: top;\n",
       "    }\n",
       "\n",
       "    .dataframe thead th {\n",
       "        text-align: right;\n",
       "    }\n",
       "</style>\n",
       "<table border=\"1\" class=\"dataframe\">\n",
       "  <thead>\n",
       "    <tr style=\"text-align: right;\">\n",
       "      <th></th>\n",
       "      <th>Name</th>\n",
       "      <th>Url</th>\n",
       "      <th>Authority</th>\n",
       "      <th>Started On</th>\n",
       "      <th>Finished On</th>\n",
       "      <th>License Number</th>\n",
       "    </tr>\n",
       "  </thead>\n",
       "  <tbody>\n",
       "    <tr>\n",
       "      <th>0</th>\n",
       "      <td>General Course on Intellectual Property</td>\n",
       "      <td>NaN</td>\n",
       "      <td>World Intellectual Property Organization – WIPO</td>\n",
       "      <td>Jul 2019</td>\n",
       "      <td>NaN</td>\n",
       "      <td>NaN</td>\n",
       "    </tr>\n",
       "    <tr>\n",
       "      <th>1</th>\n",
       "      <td>Curso Geral de Propriedade Intelectual</td>\n",
       "      <td>NaN</td>\n",
       "      <td>World Intellectual Property Organization – WIPO</td>\n",
       "      <td>Oct 2019</td>\n",
       "      <td>NaN</td>\n",
       "      <td>NaN</td>\n",
       "    </tr>\n",
       "    <tr>\n",
       "      <th>2</th>\n",
       "      <td>Introdução ao Tratado de Cooperação em Matéria...</td>\n",
       "      <td>NaN</td>\n",
       "      <td>World Intellectual Property Organization – WIPO</td>\n",
       "      <td>Apr 2020</td>\n",
       "      <td>NaN</td>\n",
       "      <td>NaN</td>\n",
       "    </tr>\n",
       "    <tr>\n",
       "      <th>3</th>\n",
       "      <td>IP Panorama - Advanced International Certifica...</td>\n",
       "      <td>NaN</td>\n",
       "      <td>World Intellectual Property Organization – WIPO</td>\n",
       "      <td>Jun 2020</td>\n",
       "      <td>NaN</td>\n",
       "      <td>NaN</td>\n",
       "    </tr>\n",
       "    <tr>\n",
       "      <th>4</th>\n",
       "      <td>Promoção do Acesso às Tecnologias Médicas e à ...</td>\n",
       "      <td>NaN</td>\n",
       "      <td>World Intellectual Property Organization – WIPO</td>\n",
       "      <td>May 2020</td>\n",
       "      <td>NaN</td>\n",
       "      <td>NaN</td>\n",
       "    </tr>\n",
       "  </tbody>\n",
       "</table>\n",
       "</div>"
      ],
      "text/plain": [
       "                                                Name  Url  \\\n",
       "0            General Course on Intellectual Property  NaN   \n",
       "1             Curso Geral de Propriedade Intelectual  NaN   \n",
       "2  Introdução ao Tratado de Cooperação em Matéria...  NaN   \n",
       "3  IP Panorama - Advanced International Certifica...  NaN   \n",
       "4  Promoção do Acesso às Tecnologias Médicas e à ...  NaN   \n",
       "\n",
       "                                         Authority Started On  Finished On  \\\n",
       "0  World Intellectual Property Organization – WIPO   Jul 2019          NaN   \n",
       "1  World Intellectual Property Organization – WIPO   Oct 2019          NaN   \n",
       "2  World Intellectual Property Organization – WIPO   Apr 2020          NaN   \n",
       "3  World Intellectual Property Organization – WIPO   Jun 2020          NaN   \n",
       "4  World Intellectual Property Organization – WIPO   May 2020          NaN   \n",
       "\n",
       "   License Number  \n",
       "0             NaN  \n",
       "1             NaN  \n",
       "2             NaN  \n",
       "3             NaN  \n",
       "4             NaN  "
      ]
     },
     "execution_count": 4,
     "metadata": {},
     "output_type": "execute_result"
    }
   ],
   "source": [
    "df.head()"
   ]
  },
  {
   "cell_type": "code",
   "execution_count": 5,
   "id": "5442ad3c-deb4-4730-9b6f-60c257d6d350",
   "metadata": {},
   "outputs": [],
   "source": [
    "df.drop(columns=['Url', 'Finished On', 'License Number'], inplace=True)"
   ]
  },
  {
   "cell_type": "code",
   "execution_count": 6,
   "id": "642fe713-e69e-4786-84b8-2474d6fe1a9f",
   "metadata": {},
   "outputs": [
    {
     "data": {
      "text/html": [
       "<div>\n",
       "<style scoped>\n",
       "    .dataframe tbody tr th:only-of-type {\n",
       "        vertical-align: middle;\n",
       "    }\n",
       "\n",
       "    .dataframe tbody tr th {\n",
       "        vertical-align: top;\n",
       "    }\n",
       "\n",
       "    .dataframe thead th {\n",
       "        text-align: right;\n",
       "    }\n",
       "</style>\n",
       "<table border=\"1\" class=\"dataframe\">\n",
       "  <thead>\n",
       "    <tr style=\"text-align: right;\">\n",
       "      <th></th>\n",
       "      <th>Name</th>\n",
       "      <th>Authority</th>\n",
       "      <th>Started On</th>\n",
       "    </tr>\n",
       "  </thead>\n",
       "  <tbody>\n",
       "    <tr>\n",
       "      <th>0</th>\n",
       "      <td>General Course on Intellectual Property</td>\n",
       "      <td>World Intellectual Property Organization – WIPO</td>\n",
       "      <td>Jul 2019</td>\n",
       "    </tr>\n",
       "    <tr>\n",
       "      <th>1</th>\n",
       "      <td>Curso Geral de Propriedade Intelectual</td>\n",
       "      <td>World Intellectual Property Organization – WIPO</td>\n",
       "      <td>Oct 2019</td>\n",
       "    </tr>\n",
       "    <tr>\n",
       "      <th>2</th>\n",
       "      <td>Introdução ao Tratado de Cooperação em Matéria...</td>\n",
       "      <td>World Intellectual Property Organization – WIPO</td>\n",
       "      <td>Apr 2020</td>\n",
       "    </tr>\n",
       "    <tr>\n",
       "      <th>3</th>\n",
       "      <td>IP Panorama - Advanced International Certifica...</td>\n",
       "      <td>World Intellectual Property Organization – WIPO</td>\n",
       "      <td>Jun 2020</td>\n",
       "    </tr>\n",
       "    <tr>\n",
       "      <th>4</th>\n",
       "      <td>Promoção do Acesso às Tecnologias Médicas e à ...</td>\n",
       "      <td>World Intellectual Property Organization – WIPO</td>\n",
       "      <td>May 2020</td>\n",
       "    </tr>\n",
       "  </tbody>\n",
       "</table>\n",
       "</div>"
      ],
      "text/plain": [
       "                                                Name  \\\n",
       "0            General Course on Intellectual Property   \n",
       "1             Curso Geral de Propriedade Intelectual   \n",
       "2  Introdução ao Tratado de Cooperação em Matéria...   \n",
       "3  IP Panorama - Advanced International Certifica...   \n",
       "4  Promoção do Acesso às Tecnologias Médicas e à ...   \n",
       "\n",
       "                                         Authority Started On  \n",
       "0  World Intellectual Property Organization – WIPO   Jul 2019  \n",
       "1  World Intellectual Property Organization – WIPO   Oct 2019  \n",
       "2  World Intellectual Property Organization – WIPO   Apr 2020  \n",
       "3  World Intellectual Property Organization – WIPO   Jun 2020  \n",
       "4  World Intellectual Property Organization – WIPO   May 2020  "
      ]
     },
     "execution_count": 6,
     "metadata": {},
     "output_type": "execute_result"
    }
   ],
   "source": [
    "df.head()"
   ]
  },
  {
   "cell_type": "code",
   "execution_count": 7,
   "id": "11e73517-410b-4137-8281-ca1da12fe7b4",
   "metadata": {},
   "outputs": [],
   "source": [
    "df.rename(columns={'Name': 'nome_curso', 'Authority': 'instituição', 'Started On': 'finalizado_em'}, inplace=True)"
   ]
  },
  {
   "cell_type": "code",
   "execution_count": 8,
   "id": "89b36885-7d12-4d9b-89fd-2a2a51217b14",
   "metadata": {},
   "outputs": [],
   "source": [
    "df.loc[11] = ['Introdução ao R Commander: Uma Abordagem Computacional Voltada ao Ensino da Estatística', \n",
    "              'Universidade Federal de Juiz de Fora', 'Dez 2020']"
   ]
  },
  {
   "cell_type": "code",
   "execution_count": 9,
   "id": "a22d1d22-17da-404f-a8c7-e094718aaade",
   "metadata": {},
   "outputs": [],
   "source": [
    "df.reset_index(inplace=True)"
   ]
  },
  {
   "cell_type": "code",
   "execution_count": 10,
   "id": "c89e99c0-52bc-417b-8e78-8c63b63d336e",
   "metadata": {},
   "outputs": [],
   "source": [
    "df.drop(columns='index', inplace=True)"
   ]
  },
  {
   "cell_type": "code",
   "execution_count": 11,
   "id": "888ed839-b7de-4822-84ec-57bbe0622fcb",
   "metadata": {},
   "outputs": [
    {
     "data": {
      "text/html": [
       "<div>\n",
       "<style scoped>\n",
       "    .dataframe tbody tr th:only-of-type {\n",
       "        vertical-align: middle;\n",
       "    }\n",
       "\n",
       "    .dataframe tbody tr th {\n",
       "        vertical-align: top;\n",
       "    }\n",
       "\n",
       "    .dataframe thead th {\n",
       "        text-align: right;\n",
       "    }\n",
       "</style>\n",
       "<table border=\"1\" class=\"dataframe\">\n",
       "  <thead>\n",
       "    <tr style=\"text-align: right;\">\n",
       "      <th></th>\n",
       "      <th>nome_curso</th>\n",
       "      <th>instituição</th>\n",
       "      <th>finalizado_em</th>\n",
       "    </tr>\n",
       "  </thead>\n",
       "  <tbody>\n",
       "    <tr>\n",
       "      <th>0</th>\n",
       "      <td>General Course on Intellectual Property</td>\n",
       "      <td>World Intellectual Property Organization – WIPO</td>\n",
       "      <td>Jul 2019</td>\n",
       "    </tr>\n",
       "    <tr>\n",
       "      <th>1</th>\n",
       "      <td>Curso Geral de Propriedade Intelectual</td>\n",
       "      <td>World Intellectual Property Organization – WIPO</td>\n",
       "      <td>Oct 2019</td>\n",
       "    </tr>\n",
       "    <tr>\n",
       "      <th>2</th>\n",
       "      <td>Introdução ao Tratado de Cooperação em Matéria...</td>\n",
       "      <td>World Intellectual Property Organization – WIPO</td>\n",
       "      <td>Apr 2020</td>\n",
       "    </tr>\n",
       "    <tr>\n",
       "      <th>3</th>\n",
       "      <td>IP Panorama - Advanced International Certifica...</td>\n",
       "      <td>World Intellectual Property Organization – WIPO</td>\n",
       "      <td>Jun 2020</td>\n",
       "    </tr>\n",
       "    <tr>\n",
       "      <th>4</th>\n",
       "      <td>Promoção do Acesso às Tecnologias Médicas e à ...</td>\n",
       "      <td>World Intellectual Property Organization – WIPO</td>\n",
       "      <td>May 2020</td>\n",
       "    </tr>\n",
       "    <tr>\n",
       "      <th>5</th>\n",
       "      <td>Curso de Propriedade Intelectual</td>\n",
       "      <td>SENAI - Serviço Nacional de Aprendizagem Indus...</td>\n",
       "      <td>Apr 2020</td>\n",
       "    </tr>\n",
       "    <tr>\n",
       "      <th>6</th>\n",
       "      <td>Informática - Ambiente Windows I</td>\n",
       "      <td>FAETEC</td>\n",
       "      <td>Oct 2018</td>\n",
       "    </tr>\n",
       "    <tr>\n",
       "      <th>7</th>\n",
       "      <td>Excel Avançado</td>\n",
       "      <td>FAETEC</td>\n",
       "      <td>Dec 2018</td>\n",
       "    </tr>\n",
       "    <tr>\n",
       "      <th>8</th>\n",
       "      <td>Inglês Básico</td>\n",
       "      <td>Pronatec</td>\n",
       "      <td>Sep 2018</td>\n",
       "    </tr>\n",
       "    <tr>\n",
       "      <th>9</th>\n",
       "      <td>Promoção a Integração ao Mundo do Trabalho - PIMT</td>\n",
       "      <td>CAMP Mangueira</td>\n",
       "      <td>Feb 2019</td>\n",
       "    </tr>\n",
       "    <tr>\n",
       "      <th>10</th>\n",
       "      <td>Introdução ao R Commander: Uma Abordagem Compu...</td>\n",
       "      <td>Universidade Federal de Juiz de Fora</td>\n",
       "      <td>Dez 2020</td>\n",
       "    </tr>\n",
       "  </tbody>\n",
       "</table>\n",
       "</div>"
      ],
      "text/plain": [
       "                                           nome_curso  \\\n",
       "0             General Course on Intellectual Property   \n",
       "1              Curso Geral de Propriedade Intelectual   \n",
       "2   Introdução ao Tratado de Cooperação em Matéria...   \n",
       "3   IP Panorama - Advanced International Certifica...   \n",
       "4   Promoção do Acesso às Tecnologias Médicas e à ...   \n",
       "5                    Curso de Propriedade Intelectual   \n",
       "6                    Informática - Ambiente Windows I   \n",
       "7                                      Excel Avançado   \n",
       "8                                       Inglês Básico   \n",
       "9   Promoção a Integração ao Mundo do Trabalho - PIMT   \n",
       "10  Introdução ao R Commander: Uma Abordagem Compu...   \n",
       "\n",
       "                                          instituição finalizado_em  \n",
       "0     World Intellectual Property Organization – WIPO      Jul 2019  \n",
       "1     World Intellectual Property Organization – WIPO      Oct 2019  \n",
       "2     World Intellectual Property Organization – WIPO      Apr 2020  \n",
       "3     World Intellectual Property Organization – WIPO      Jun 2020  \n",
       "4     World Intellectual Property Organization – WIPO      May 2020  \n",
       "5   SENAI - Serviço Nacional de Aprendizagem Indus...      Apr 2020  \n",
       "6                                              FAETEC      Oct 2018  \n",
       "7                                              FAETEC      Dec 2018  \n",
       "8                                            Pronatec      Sep 2018  \n",
       "9                                      CAMP Mangueira      Feb 2019  \n",
       "10               Universidade Federal de Juiz de Fora      Dez 2020  "
      ]
     },
     "execution_count": 11,
     "metadata": {},
     "output_type": "execute_result"
    }
   ],
   "source": [
    "df.head(11)"
   ]
  },
  {
   "cell_type": "code",
   "execution_count": 12,
   "id": "fb3c0158-9c15-46e1-a2e7-3a475372f99d",
   "metadata": {},
   "outputs": [],
   "source": [
    "df.to_csv('projeto-modulo05-linkedin_certificados.csv', index=False)"
   ]
  },
  {
   "cell_type": "code",
   "execution_count": 13,
   "id": "2f9168ee-772e-4005-99ac-d74fa874188e",
   "metadata": {},
   "outputs": [],
   "source": [
    "df2 = pd.read_csv('Positions.csv')"
   ]
  },
  {
   "cell_type": "code",
   "execution_count": 14,
   "id": "b270fb73-b55a-43a3-8b21-ae6a1f4e29a1",
   "metadata": {},
   "outputs": [
    {
     "data": {
      "text/html": [
       "<div>\n",
       "<style scoped>\n",
       "    .dataframe tbody tr th:only-of-type {\n",
       "        vertical-align: middle;\n",
       "    }\n",
       "\n",
       "    .dataframe tbody tr th {\n",
       "        vertical-align: top;\n",
       "    }\n",
       "\n",
       "    .dataframe thead th {\n",
       "        text-align: right;\n",
       "    }\n",
       "</style>\n",
       "<table border=\"1\" class=\"dataframe\">\n",
       "  <thead>\n",
       "    <tr style=\"text-align: right;\">\n",
       "      <th></th>\n",
       "      <th>Company Name</th>\n",
       "      <th>Title</th>\n",
       "      <th>Description</th>\n",
       "      <th>Location</th>\n",
       "      <th>Started On</th>\n",
       "      <th>Finished On</th>\n",
       "    </tr>\n",
       "  </thead>\n",
       "  <tbody>\n",
       "    <tr>\n",
       "      <th>0</th>\n",
       "      <td>Daniel Law</td>\n",
       "      <td>Jovem Aprendiz</td>\n",
       "      <td>Jovem Aprendiz na área de Operações de Marcas,...</td>\n",
       "      <td>NaN</td>\n",
       "      <td>Mar 2019</td>\n",
       "      <td>Jun 2020</td>\n",
       "    </tr>\n",
       "  </tbody>\n",
       "</table>\n",
       "</div>"
      ],
      "text/plain": [
       "  Company Name           Title  \\\n",
       "0   Daniel Law  Jovem Aprendiz   \n",
       "\n",
       "                                         Description  Location Started On  \\\n",
       "0  Jovem Aprendiz na área de Operações de Marcas,...       NaN   Mar 2019   \n",
       "\n",
       "  Finished On  \n",
       "0    Jun 2020  "
      ]
     },
     "execution_count": 14,
     "metadata": {},
     "output_type": "execute_result"
    }
   ],
   "source": [
    "df2"
   ]
  },
  {
   "cell_type": "code",
   "execution_count": 15,
   "id": "7346afb2-6818-483f-ae2b-ebe0dbbc06c9",
   "metadata": {},
   "outputs": [],
   "source": [
    "df2.drop(columns=['Description', 'Location'], inplace=True)"
   ]
  },
  {
   "cell_type": "code",
   "execution_count": 16,
   "id": "f9c0c3fd-ecf2-4f6c-9ee1-af8568bf6be6",
   "metadata": {},
   "outputs": [
    {
     "data": {
      "text/html": [
       "<div>\n",
       "<style scoped>\n",
       "    .dataframe tbody tr th:only-of-type {\n",
       "        vertical-align: middle;\n",
       "    }\n",
       "\n",
       "    .dataframe tbody tr th {\n",
       "        vertical-align: top;\n",
       "    }\n",
       "\n",
       "    .dataframe thead th {\n",
       "        text-align: right;\n",
       "    }\n",
       "</style>\n",
       "<table border=\"1\" class=\"dataframe\">\n",
       "  <thead>\n",
       "    <tr style=\"text-align: right;\">\n",
       "      <th></th>\n",
       "      <th>Company Name</th>\n",
       "      <th>Title</th>\n",
       "      <th>Started On</th>\n",
       "      <th>Finished On</th>\n",
       "    </tr>\n",
       "  </thead>\n",
       "  <tbody>\n",
       "    <tr>\n",
       "      <th>0</th>\n",
       "      <td>Daniel Law</td>\n",
       "      <td>Jovem Aprendiz</td>\n",
       "      <td>Mar 2019</td>\n",
       "      <td>Jun 2020</td>\n",
       "    </tr>\n",
       "  </tbody>\n",
       "</table>\n",
       "</div>"
      ],
      "text/plain": [
       "  Company Name           Title Started On Finished On\n",
       "0   Daniel Law  Jovem Aprendiz   Mar 2019    Jun 2020"
      ]
     },
     "execution_count": 16,
     "metadata": {},
     "output_type": "execute_result"
    }
   ],
   "source": [
    "df2.head()"
   ]
  },
  {
   "cell_type": "code",
   "execution_count": 17,
   "id": "966d2a22-81bf-40fb-a2b1-251c6c5aeaaa",
   "metadata": {},
   "outputs": [],
   "source": [
    "df2.rename(columns={'Company Name': 'empresa', 'Title': 'cargo', 'Started On': 'data_inicio', 'Finished On': 'data_fim'}, inplace=True)"
   ]
  },
  {
   "cell_type": "code",
   "execution_count": 18,
   "id": "d5a5ed5a-77df-40b3-85a8-97e03eed3f4d",
   "metadata": {},
   "outputs": [
    {
     "data": {
      "text/html": [
       "<div>\n",
       "<style scoped>\n",
       "    .dataframe tbody tr th:only-of-type {\n",
       "        vertical-align: middle;\n",
       "    }\n",
       "\n",
       "    .dataframe tbody tr th {\n",
       "        vertical-align: top;\n",
       "    }\n",
       "\n",
       "    .dataframe thead th {\n",
       "        text-align: right;\n",
       "    }\n",
       "</style>\n",
       "<table border=\"1\" class=\"dataframe\">\n",
       "  <thead>\n",
       "    <tr style=\"text-align: right;\">\n",
       "      <th></th>\n",
       "      <th>empresa</th>\n",
       "      <th>cargo</th>\n",
       "      <th>data_inicio</th>\n",
       "      <th>data_fim</th>\n",
       "    </tr>\n",
       "  </thead>\n",
       "  <tbody>\n",
       "    <tr>\n",
       "      <th>0</th>\n",
       "      <td>Daniel Law</td>\n",
       "      <td>Jovem Aprendiz</td>\n",
       "      <td>Mar 2019</td>\n",
       "      <td>Jun 2020</td>\n",
       "    </tr>\n",
       "  </tbody>\n",
       "</table>\n",
       "</div>"
      ],
      "text/plain": [
       "      empresa           cargo data_inicio  data_fim\n",
       "0  Daniel Law  Jovem Aprendiz    Mar 2019  Jun 2020"
      ]
     },
     "execution_count": 18,
     "metadata": {},
     "output_type": "execute_result"
    }
   ],
   "source": [
    "df2.head()"
   ]
  },
  {
   "cell_type": "code",
   "execution_count": 19,
   "id": "491d25b4-f0d8-475e-968b-00f9e4b1c763",
   "metadata": {},
   "outputs": [],
   "source": [
    "df2.to_csv('projeto-modulo05-linkedin-emprego.csv', index=False)"
   ]
  }
 ],
 "metadata": {
  "kernelspec": {
   "display_name": "Python 3 (ipykernel)",
   "language": "python",
   "name": "python3"
  },
  "language_info": {
   "codemirror_mode": {
    "name": "ipython",
    "version": 3
   },
   "file_extension": ".py",
   "mimetype": "text/x-python",
   "name": "python",
   "nbconvert_exporter": "python",
   "pygments_lexer": "ipython3",
   "version": "3.8.6"
  }
 },
 "nbformat": 4,
 "nbformat_minor": 5
}
